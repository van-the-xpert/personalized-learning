{
  "cells": [
    {
      "cell_type": "code",
      "execution_count": null,
      "metadata": {
        "collapsed": true,
        "id": "6JjuQpU1gmn9"
      },
      "outputs": [],
      "source": [
        "# %pip install -qU pypdf langchain_community\n",
        "# %pip install langchain_chroma langchain_openai langchain_text_splitters\n",
        "# %pip install openai chromadb langchain pypdf\n",
        "# %pip install langchainhub"
      ]
    },
    {
      "cell_type": "code",
      "execution_count": 1,
      "metadata": {
        "colab": {
          "base_uri": "https://localhost:8080/"
        },
        "id": "3DDbgQjbkcn1",
        "outputId": "353774ef-8ad2-43f6-939c-a096972fc8d1"
      },
      "outputs": [],
      "source": [
        "from langchain_community.document_loaders import PyPDFLoader, TextLoader\n",
        "from langchain_chroma import Chroma\n",
        "from langchain_openai import OpenAIEmbeddings\n",
        "from langchain_text_splitters import RecursiveCharacterTextSplitter, CharacterTextSplitter\n",
        "import os"
      ]
    },
    {
      "cell_type": "code",
      "execution_count": 7,
      "metadata": {},
      "outputs": [],
      "source": [
        "from dotenv import load_dotenv\n",
        "load_dotenv()\n",
        "pinecone_api_key = os.getenv(\"PINECONE_API_KEY\")\n",
        "openai_api_key = os.getenv(\"OPENAI_API_KEY\")\n",
        "\n",
        "os.environ[\"OPENAI_API_KEY\"] = openai_api_key\n",
        "os.environ[\"PINECONE_API_KEY\"] = pinecone_api_key"
      ]
    },
    {
      "cell_type": "code",
      "execution_count": 54,
      "metadata": {},
      "outputs": [],
      "source": [
        "# text = \"\"\"\n",
        "# Your long PDF text goes here. This is just an example placeholder text.\n",
        "# \"\"\"\n",
        "\n",
        "# class Text2Doc:\n",
        "#     def __init__(self, text, path):\n",
        "#         self.page_content = text\n",
        "#         self.metadata ={'source': path}\n",
        "\n",
        "# # Step 1: Split text into chunks\n",
        "# docs = Text2Doc(text=summary, path=\"test.txt\")\n",
        "# text_splitter = RecursiveCharacterTextSplitter(chunk_size=1000, chunk_overlap=20)\n",
        "# chunks = text_splitter.split_documents([docs])"
      ]
    },
    {
      "cell_type": "code",
      "execution_count": 3,
      "metadata": {},
      "outputs": [],
      "source": [
        "summaries =  ['Exporting can be both challenging and rewarding for small businesses, as it enables access to new international markets, potentially enhancing growth and resilience. While exporting offers numerous benefits, such as increased profits and reduced dependency on the domestic economy, it also carries risks, including regulations and logistics delays. Small- and medium-sized enterprises (SMEs) accounted for significant export value in 2019, and the rise of e-commerce provides new opportunities for global sales. Business owners must carefully research and plan their export strategies.',\n",
        " 'Exporting presents both challenges and rewards for small businesses. With SMEs contributing $460 billion to U.S. exports in 2019, international sales offer potential growth opportunities, especially after the surge of e-commerce in 2020. Benefits of exporting include market diversification, increased resilience to economic downturns, and enhanced profit margins. However, businesses must navigate risks such as regulations, tariffs, and logistics. Understanding which goods or services to export is crucial, as most are permissible with some exceptions.',\n",
        " 'Exporting offers small businesses access to international markets, allowing them to grow faster, diversify their customer base, and decrease production costs. However, it comes with risks such as regulatory challenges and logistics issues. A successful export strategy can enhance resilience and profitability, but careful research and planning are essential.',\n",
        " 'Exporting offers significant opportunities for small businesses, enabling access to international markets and diversifying revenue streams. Despite the challenges posed by regulations, tariffs, and logistics, the benefits include increased profits, reduced business risk, and enhanced resilience. Small and medium-sized enterprises (SMEs) contributed $460 billion in export value, demonstrating their crucial role in global trade. However, careful planning and research are essential to navigate this landscape successfully.',\n",
        " \"Exporting can be both challenging and rewarding for small businesses, offering access to international markets and potential growth. In 2019, SMEs contributed $460 billion to U.S. exports, and e-commerce has further increased opportunities for global sales. Benefits of exporting include market diversification, increased resilience, and profit growth, while risks include regulatory hurdles and logistical challenges. Understanding which goods or services to export is crucial, as some markets may have restrictions. The average exporter tends to grow faster than non-exporters, making international trade a vital component of a small business's growth strategy.\",\n",
        " \"Exporting can be both challenging and rewarding for small businesses, offering access to global markets and potential growth opportunities. Despite risks associated with international trade, such as regulations and logistics, exporters experience faster growth and increased resilience. The U.S. represents only 4% of the world's population, highlighting the importance of targeting international markets. Many goods and services can be exported, with diverse opportunities in durable and nondurable goods. Businesses should develop efficient strategies to support their global efforts.\",\n",
        " 'Exporting offers small businesses access to international markets, enhancing growth and resilience while reducing dependence on the U.S. economy. Despite its benefits, exporting involves challenges like regulations, tariffs, and logistics issues. A strategic approach, informed by research, can help SMEs capitalize on global opportunities and navigate the risks associated with international sales.',\n",
        " 'Exporting can be a transformative opportunity for small businesses, providing access to new markets, increased profits, and resilience against economic downturns. Although it offers many benefits, such as market diversification and reduced dependence on the U.S. economy, exporting also comes with risks, including regulations and logistics challenges. Selecting appropriate goods or services and understanding international markets are key factors in successful exporting.']\n"
      ]
    },
    {
      "cell_type": "code",
      "execution_count": 4,
      "metadata": {},
      "outputs": [],
      "source": [
        "topics = \"\"\"\n",
        "Benefits of exporting for small businesses\n",
        "Risks and challenges of international trade\n",
        "Choosing goods and services for exportBenefits of Exporting for Small Businesses\n",
        "Risks Associated with International Trade\n",
        "Strategies for Selecting Goods to ExportBenefits of Exporting for Small Businesses\n",
        "Risks and Challenges of International Trade\n",
        "Strategies for Successful ExportingBenefits of Exporting for Small Businesses\n",
        "Risks and Challenges in International Exporting\n",
        "Strategies for Effective Market EntryBenefits of Exporting for SMEs\n",
        "Risks and Challenges in Exporting\n",
        "Choosing Goods or Services for ExportBenefits of Exporting for Small Businesses\n",
        "Challenges and Risks in International Trade\n",
        "Strategies for Successful ExportingBenefits of Exporting for Small Businesses\n",
        "Risks and Challenges in International Trade\n",
        "Selecting Goods and Services for ExportBenefits of Exporting for Small Businesses\n",
        "Risks and Challenges in International Trade\n",
        "Choosing Goods and Services for Export\n",
        "\"\"\""
      ]
    },
    {
      "cell_type": "code",
      "execution_count": 10,
      "metadata": {},
      "outputs": [
        {
          "name": "stdout",
          "output_type": "stream",
          "text": [
            "Existing indexes: ['test-index', 'export-lesson-index', 'lesson-1-index']\n"
          ]
        }
      ],
      "source": [
        "from langchain_pinecone import PineconeVectorStore\n",
        "import time\n",
        "from pinecone import Pinecone, ServerlessSpec\n",
        "pc = Pinecone()\n",
        "\n",
        "# TODO: Get this index name from DB\n",
        "index_name = \"export-lesson-index2\"\n",
        "vectorstore = None\n",
        "embedding_model = OpenAIEmbeddings()\n",
        "\n",
        "existing_indexes = [index_info[\"name\"] for index_info in pc.list_indexes()]\n",
        "\n",
        "print(\"Existing indexes:\", existing_indexes)\n",
        "\n",
        "if index_name not in existing_indexes:\n",
        "    pc.create_index(\n",
        "        name=index_name,\n",
        "        dimension=1536,\n",
        "        metric=\"cosine\",\n",
        "        spec=ServerlessSpec(cloud=\"aws\", region=\"us-east-1\"),\n",
        "    )\n",
        "    while not pc.describe_index(index_name).status[\"ready\"]:\n",
        "        time.sleep(1)\n",
        "    # Create vectorstore\n",
        "    vectorstore = PineconeVectorStore.from_texts(\n",
        "        summaries,\n",
        "        index_name=index_name,\n",
        "        embedding=embedding_model\n",
        "    )\n",
        "\n",
        "else:\n",
        "    print(\"Existing index\")\n",
        "    vectorstore = PineconeVectorStore.from_existing_index(index_name=index_name, embedding=embedding_model)"
      ]
    },
    {
      "cell_type": "code",
      "execution_count": null,
      "metadata": {
        "colab": {
          "base_uri": "https://localhost:8080/"
        },
        "id": "DiyaShAH0bHw",
        "outputId": "179b08e0-92a5-43e6-cc5b-77535b70cf50"
      },
      "outputs": [],
      "source": [
        "# %pip install pinecone_notebooks pinecone\n",
        "# %pip install --upgrade --quiet  \\\n",
        "#     langchain-pinecone \\\n",
        "#     langchain-openai \\\n",
        "#     langchain \\\n",
        "#     langchain-community \\\n",
        "#     pinecone-notebooks"
      ]
    },
    {
      "cell_type": "code",
      "execution_count": null,
      "metadata": {
        "colab": {
          "base_uri": "https://localhost:8080/",
          "height": 247
        },
        "id": "ZP4JK4k-0O9Z",
        "outputId": "6e54c518-9d99-4ad9-e67a-c173eb2b545c"
      },
      "outputs": [
        {
          "data": {
            "text/html": [
              "<script type=\"text/javascript\" src=\"https://connect.pinecone.io/embed.js\"></script>"
            ],
            "text/plain": [
              "<IPython.core.display.HTML object>"
            ]
          },
          "metadata": {},
          "output_type": "display_data"
        }
      ],
      "source": [
        "# from pinecone_notebooks.colab import Authenticate\n",
        "\n",
        "# Authenticate()\n",
        "# # This is just to add API key. Actually we can skip this step if we have API key."
      ]
    },
    {
      "cell_type": "markdown",
      "metadata": {},
      "source": [
        "### Embed the splitted pages\n",
        "\n",
        "This is a single run when the pdf is uploaded. Next times, we will just use the existing vectorstore. See below."
      ]
    },
    {
      "cell_type": "code",
      "execution_count": 13,
      "metadata": {
        "colab": {
          "base_uri": "https://localhost:8080/"
        },
        "id": "nkEuN-QT3QYA",
        "outputId": "b8b59e4b-0d73-401a-c3d1-ef5a6d1f5ae1",
        "vscode": {
          "languageId": "javascript"
        }
      },
      "outputs": [
        {
          "name": "stdout",
          "output_type": "stream",
          "text": [
            "Exporting can be both challenging and rewarding for small businesses, as it enables access to new international markets, potentially enhancing growth and resilience. While exporting offers numerous benefits, such as increased profits and reduced dependency on the domestic economy, it also carries risks, including regulations and logistics delays. Small- and medium-sized enterprises (SMEs) accounted for significant export value in 2019, and the rise of e-commerce provides new opportunities for global sales. Business owners must carefully research and plan their export strategies.\n"
          ]
        }
      ],
      "source": [
        "query = \"What are the challenges of export for small business owners?\"\n",
        "docs = vectorstore.similarity_search(query)\n",
        "print(docs[0].page_content)"
      ]
    },
    {
      "cell_type": "markdown",
      "metadata": {},
      "source": [
        "### Turn to Retriever"
      ]
    },
    {
      "cell_type": "code",
      "execution_count": 14,
      "metadata": {
        "id": "pC2LjW5BXBJz"
      },
      "outputs": [],
      "source": [
        "retriever = vectorstore.as_retriever(search_type=\"mmr\")"
      ]
    },
    {
      "cell_type": "markdown",
      "metadata": {
        "id": "k-ECFKF6lJR1"
      },
      "source": [
        "### Creating RAG (not necessary for agent)"
      ]
    },
    {
      "cell_type": "code",
      "execution_count": 17,
      "metadata": {
        "id": "bFsMKsSnlKtb"
      },
      "outputs": [],
      "source": [
        "from langchain.chains import create_retrieval_chain\n",
        "from langchain.chains.combine_documents import create_stuff_documents_chain\n",
        "from langchain_core.prompts import ChatPromptTemplate\n",
        "\n",
        "system_prompt = (\n",
        "    \"You are an assistant for question-answering tasks. \"\n",
        "    \"Use the following pieces of retrieved context to answer \"\n",
        "    \"the question. If you don't know the answer, say that you \"\n",
        "    \"don't know. Use three sentences maximum and keep the \"\n",
        "    \"answer concise.\"\n",
        "    \"\\n\\n\"\n",
        "    \"{context}\"\n",
        ")\n",
        "\n",
        "prompt = ChatPromptTemplate.from_messages(\n",
        "    [\n",
        "        (\"system\", system_prompt),\n",
        "        (\"human\", \"{input}\"),\n",
        "    ]\n",
        ")\n",
        "\n",
        "from langchain_openai import ChatOpenAI\n",
        "\n",
        "llm = ChatOpenAI(model=\"gpt-3.5-turbo\", temperature=0)\n",
        "\n",
        "question_answer_chain = create_stuff_documents_chain(llm, prompt)\n",
        "# maximal marginal relevance\n",
        "retriever = vectorstore.as_retriever(search_type=\"mmr\")\n",
        "rag_chain = create_retrieval_chain(retriever, question_answer_chain)"
      ]
    },
    {
      "cell_type": "code",
      "execution_count": 19,
      "metadata": {
        "colab": {
          "base_uri": "https://localhost:8080/"
        },
        "id": "dbLokQS2lboC",
        "outputId": "92218be4-df8d-4a98-9f05-62c69bb6c62c"
      },
      "outputs": [
        {
          "name": "stdout",
          "output_type": "stream",
          "text": [
            "1. Types of goods and services suitable for export\n",
            "2. Challenges in exporting such as cultural differences, language barriers, and legal compliance\n",
            "3. Financial aspects of exporting including securing financing, estimating costs, and navigating trade agreements\n",
            "4. Utilizing digital tools for export assistance like Export Express loans and International Trade Loans\n",
            "5. Benefits of exporting for small businesses such as increased profits, extended product life cycles, and decreased production costs.\n"
          ]
        }
      ],
      "source": [
        "# topic_name = \"Creat\"\n",
        "results = rag_chain.invoke({\"input\": f\"Generate sub topics for Export based on the contents.\"})\n",
        "\n",
        "print(results['answer'])"
      ]
    },
    {
      "cell_type": "code",
      "execution_count": 21,
      "metadata": {
        "colab": {
          "base_uri": "https://localhost:8080/"
        },
        "id": "zNeuzaM3mBm1",
        "outputId": "fefed1d5-28a4-4195-f128-e40138605625"
      },
      "outputs": [
        {
          "name": "stdout",
          "output_type": "stream",
          "text": [
            "1. Types of goods and services suitable for export vary but commonly include unique or high-quality products, technology, services, and niche goods that have demand in foreign markets.\n",
            "2. Challenges in exporting encompass cultural differences, language barriers, and legal compliance issues that businesses need to address to successfully enter international markets.\n",
            "3. Financial aspects of exporting involve securing financing through loans, estimating transportation and shipping costs, and navigating trade agreements and regulations to ensure compliance and smooth operations.\n"
          ]
        }
      ],
      "source": [
        "results = rag_chain.invoke({\"input\": f\"\"\"Now teach me the topics \\n{results['answer']} one by one.\"\"\"})\n",
        "\n",
        "print(results['answer'])"
      ]
    },
    {
      "cell_type": "markdown",
      "metadata": {
        "id": "zpJsuljNnwrg"
      },
      "source": [
        "### Creating RAG as a tool"
      ]
    },
    {
      "cell_type": "code",
      "execution_count": 31,
      "metadata": {},
      "outputs": [],
      "source": [
        "tool_name = \"Intermediate_Answer\"\n",
        "tool_desc = \"Search for information about any Export learning content. For any questions about learning content, you must use this tool!\""
      ]
    },
    {
      "cell_type": "code",
      "execution_count": 32,
      "metadata": {
        "id": "BCWKAQL_oU-M"
      },
      "outputs": [],
      "source": [
        "from langchain.tools.retriever import create_retriever_tool\n",
        "tool = create_retriever_tool(\n",
        "    retriever,  # The RAG chain instance you are using\n",
        "    tool_name,  # Renamed to better reflect the focus on learning materials\n",
        "    tool_desc\n",
        ")"
      ]
    },
    {
      "cell_type": "markdown",
      "metadata": {
        "id": "YM1l7qB8oVKa"
      },
      "source": [
        "### Create Agent"
      ]
    },
    {
      "cell_type": "code",
      "execution_count": 33,
      "metadata": {
        "id": "6SLiAuGVoqE9"
      },
      "outputs": [],
      "source": [
        "tools = [tool]"
      ]
    },
    {
      "cell_type": "code",
      "execution_count": 34,
      "metadata": {
        "id": "MNwReCqUoWaw"
      },
      "outputs": [],
      "source": [
        "from langchain_openai import ChatOpenAI\n",
        "\n",
        "llm = ChatOpenAI(model=\"gpt-4o-mini\", temperature=0)"
      ]
    },
    {
      "cell_type": "markdown",
      "metadata": {
        "id": "uvCwirYnq34W"
      },
      "source": [
        "### Custom Prompt"
      ]
    },
    {
      "cell_type": "code",
      "execution_count": null,
      "metadata": {},
      "outputs": [],
      "source": [
        "class AgentPrompts:\n",
        "    agent_system_prompt = \"\"\"\n",
        "    You are an AI learning assistant helping a mentor coach their client on business-related matters.\n",
        "\n",
        "    ```\n",
        "    Client Personal Information:\n",
        "    {client_personal_info}\n",
        "    ```\n",
        "\n",
        "    Client Business Information:\n",
        "    {client_business_info}\n",
        "\n",
        "    Topics to cover:\n",
        "    {topics_to_cover}\n",
        "\n",
        "    The user's preffered language is {language}.\n",
        "\n",
        "    You are responsible for assessing the user's understanding of each topic. Use the RAG (Retrieval-Augmented Generation) tool, which has access to knowledge from an uploaded PDF file, to generate relevant content. The assistant should cover the topics sequentially, ensuring the user comprehends each topic before moving to the next one.\n",
        "\n",
        "### Example Conversation Flow:\n",
        "\n",
        "**Initial Conversation Starter:**\n",
        "\"Hello! Based on the client's business information and the topics we need to cover, I recommend starting with [specific topic]. How familiar are you with this topic?\"\n",
        "\n",
        "**Proceeding Based on Understanding:**\n",
        "\n",
        "1. **Introduction to Topic:**\n",
        "   - Provide a brief overview of the topic using content generated by the RAG tool.\n",
        "   - Example: \"Let's begin with an overview of [specific topic]. Here's a brief introduction: [content from RAG].\"\n",
        "\n",
        "2. **Assess Understanding:**\n",
        "   - Ask questions to gauge the user's understanding.\n",
        "   - Example: \"Do you have any questions about this overview? Can you explain how this might apply to your business?\"\n",
        "\n",
        "3. **Deepen Understanding:**\n",
        "   - Provide more detailed information or examples if the user needs more clarity.\n",
        "   - Example: \"Here are more details about [specific aspect]. [content from RAG]. How do you think this could impact your current business strategy?\"\n",
        "\n",
        "4. **Confirm Understanding:**\n",
        "   - Ensure the user understands before moving on.\n",
        "   - Example: \"Great! Do you feel comfortable with this topic, or is there anything else you'd like to explore further?\"\n",
        "\n",
        "5. **Transition to Next Topic:**\n",
        "   - Once understanding is confirmed, move to the next topic.\n",
        "   - Example: \"Since you're comfortable with [current topic], let's move on to [next topic]. Here's an overview: [content from RAG].\"\n",
        "\n",
        "\"\"\"\n",
        "\n",
        "language = \"Mizo\""
      ]
    },
    {
      "cell_type": "code",
      "execution_count": 80,
      "metadata": {
        "id": "CDcYKTkxrIMf"
      },
      "outputs": [],
      "source": [
        "class AgentPrompts:\n",
        "    agent_system_prompt = \"\"\"\n",
        "    You are an AI learning assistant helping a mentor coach their client on business-related matters.\n",
        "\n",
        "    ```\n",
        "    Client Personal Information:\n",
        "    {client_personal_info}\n",
        "    ```\n",
        "\n",
        "    Client Business Information:\n",
        "    {client_business_info}\n",
        "\n",
        "    Topics to cover:\n",
        "    {topics_to_cover}\n",
        "\n",
        "    The user's preffered language is {language}.\n",
        "\n",
        "    You are responsible for assessing the user's understanding of each topic. Use the RAG (Retrieval-Augmented Generation) tool, which has access to knowledge from an uploaded PDF file, to generate relevant content. The assistant should cover the topics sequentially, ensuring the user comprehends each topic before moving to the next one.\n",
        "\n",
        "### Example Conversation Flow:\n",
        "\n",
        "**Initial Conversation Starter:**\n",
        "\"Hello! Based on the client's business information and the topics we need to cover, I recommend starting with [specific topic]. How familiar are you with this topic?\"\n",
        "\n",
        "**Proceeding Based on Understanding:**\n",
        "\n",
        "1. **Introduction to Topic:**\n",
        "   - Provide a brief overview of the topic using content generated by the RAG tool.\n",
        "   - Example: \"Let's begin with an overview of [specific topic]. Here's a brief introduction: [content from RAG]. Let's start with the first one: [first sub topic]\"\n",
        "\n",
        "2. **Assess Understanding:**\n",
        "   - Ask questions to gauge the user's understanding.\n",
        "   - Example: \"Do you have any questions about this overview? Can you explain how this might apply to your business?\"\n",
        "\n",
        "3. **Deepen Understanding:**\n",
        "   - Provide more detailed information or examples with user's business.\n",
        "   - Example: \"Here is how you can apply to your business for example. [Example]. How do you think this could impact your current business strategy?\"\n",
        "\n",
        "4. **Confirm Understanding:**\n",
        "   - Ensure the user understands before moving on.\n",
        "   - Example: \"Great! Do you feel comfortable with this topic, or is there anything else you'd like to explore further?\"\n",
        "\n",
        "5. **Transition to Next Topic:**\n",
        "   - Once understanding is confirmed, move to the next topic.\n",
        "   - Example: \"Since you're comfortable with [current topic], let's move on to [next topic]. Here's an overview: [content from RAG].\"\n",
        "\n",
        "\"\"\"\n",
        "\n",
        "language = \"English\""
      ]
    },
    {
      "cell_type": "markdown",
      "metadata": {
        "id": "1TRSFMBv1PcN"
      },
      "source": [
        "### Learning Agent"
      ]
    },
    {
      "cell_type": "code",
      "execution_count": 81,
      "metadata": {
        "id": "wEOROUB_q58f"
      },
      "outputs": [],
      "source": [
        "from langchain_core.prompts import ChatPromptTemplate, MessagesPlaceholder\n",
        "custom_prompt = ChatPromptTemplate.from_messages(\n",
        "    [\n",
        "        (\"system\", AgentPrompts.agent_system_prompt),\n",
        "        MessagesPlaceholder(\"chat_history\", optional=False),\n",
        "        (\"human\", \"{input}\"),\n",
        "        MessagesPlaceholder(\"agent_scratchpad\"),\n",
        "    ]\n",
        ")\n",
        "\n",
        "custom_prompt = custom_prompt.partial(topics_to_cover=topics, language=language)"
      ]
    },
    {
      "cell_type": "code",
      "execution_count": 65,
      "metadata": {
        "colab": {
          "base_uri": "https://localhost:8080/"
        },
        "id": "KUlZTy56vaoO",
        "outputId": "1cbd7020-b40e-45b1-ce97-54600dd7b3d3"
      },
      "outputs": [
        {
          "name": "stdout",
          "output_type": "stream",
          "text": [
            "input_variables=['agent_scratchpad', 'chat_history', 'client_business_info', 'client_personal_info', 'input'] input_types={'chat_history': typing.List[typing.Union[langchain_core.messages.ai.AIMessage, langchain_core.messages.human.HumanMessage, langchain_core.messages.chat.ChatMessage, langchain_core.messages.system.SystemMessage, langchain_core.messages.function.FunctionMessage, langchain_core.messages.tool.ToolMessage]], 'agent_scratchpad': typing.List[typing.Union[langchain_core.messages.ai.AIMessage, langchain_core.messages.human.HumanMessage, langchain_core.messages.chat.ChatMessage, langchain_core.messages.system.SystemMessage, langchain_core.messages.function.FunctionMessage, langchain_core.messages.tool.ToolMessage]]} partial_variables={'topics_to_cover': '\\nBenefits of exporting for small businesses\\nRisks and challenges of international trade\\nChoosing goods and services for exportBenefits of Exporting for Small Businesses\\nRisks Associated with International Trade\\nStrategies for Selecting Goods to ExportBenefits of Exporting for Small Businesses\\nRisks and Challenges of International Trade\\nStrategies for Successful ExportingBenefits of Exporting for Small Businesses\\nRisks and Challenges in International Exporting\\nStrategies for Effective Market EntryBenefits of Exporting for SMEs\\nRisks and Challenges in Exporting\\nChoosing Goods or Services for ExportBenefits of Exporting for Small Businesses\\nChallenges and Risks in International Trade\\nStrategies for Successful ExportingBenefits of Exporting for Small Businesses\\nRisks and Challenges in International Trade\\nSelecting Goods and Services for ExportBenefits of Exporting for Small Businesses\\nRisks and Challenges in International Trade\\nChoosing Goods and Services for Export\\n', 'language': 'Mizo'} messages=[SystemMessagePromptTemplate(prompt=PromptTemplate(input_variables=['client_business_info', 'client_personal_info', 'language', 'topics_to_cover'], template='\\n    You are an AI learning assistant helping a mentor coach their client on business-related matters.\\n\\n    ```\\n    Client Personal Information:\\n    {client_personal_info}\\n    ```\\n\\n    Client Business Information:\\n    {client_business_info}\\n\\n    Topics to cover:\\n    {topics_to_cover}\\n\\n    The user\\'s preffered language is {language}.\\n\\n    You are responsible for assessing the user\\'s understanding of each topic. Use the RAG (Retrieval-Augmented Generation) tool, which has access to knowledge from an uploaded PDF file, to generate relevant content. The assistant should cover the topics sequentially, ensuring the user comprehends each topic before moving to the next one.\\n\\n### Example Conversation Flow:\\n\\n**Initial Conversation Starter:**\\n\"Hello! Based on the client\\'s business information and the topics we need to cover, I recommend starting with [specific topic]. How familiar are you with this topic?\"\\n\\n**Proceeding Based on Understanding:**\\n\\n1. **Introduction to Topic:**\\n   - Provide a brief overview of the topic using content generated by the RAG tool.\\n   - Example: \"Let\\'s begin with an overview of [specific topic]. Here\\'s a brief introduction: [content from RAG].\"\\n\\n2. **Assess Understanding:**\\n   - Ask questions to gauge the user\\'s understanding.\\n   - Example: \"Do you have any questions about this overview? Can you explain how this might apply to your business?\"\\n\\n3. **Deepen Understanding:**\\n   - Provide more detailed information or examples if the user needs more clarity.\\n   - Example: \"Here are more details about [specific aspect]. [content from RAG]. How do you think this could impact your current business strategy?\"\\n\\n4. **Confirm Understanding:**\\n   - Ensure the user understands before moving on.\\n   - Example: \"Great! Do you feel comfortable with this topic, or is there anything else you\\'d like to explore further?\"\\n\\n5. **Transition to Next Topic:**\\n   - Once understanding is confirmed, move to the next topic.\\n   - Example: \"Since you\\'re comfortable with [current topic], let\\'s move on to [next topic]. Here\\'s an overview: [content from RAG].\"\\n\\n   # Do not teach too much at a time.\\n')), MessagesPlaceholder(variable_name='chat_history'), HumanMessagePromptTemplate(prompt=PromptTemplate(input_variables=['input'], template='{input}')), MessagesPlaceholder(variable_name='agent_scratchpad')]\n"
          ]
        }
      ],
      "source": [
        "print(custom_prompt)"
      ]
    },
    {
      "cell_type": "markdown",
      "metadata": {},
      "source": [
        "### Sample Customer Information"
      ]
    },
    {
      "cell_type": "code",
      "execution_count": 82,
      "metadata": {},
      "outputs": [],
      "source": [
        "client_personal_info = \"\"\"\n",
        "Name: Jane Doe\n",
        "Age: 34\n",
        "Education: MBA in Marketing\n",
        "Experience: 10 years in small business management\n",
        "Email: jane.doe@example.com\n",
        "Phone: +1-234-567-8901\n",
        "Location: Springfield, IL\n",
        "\"\"\"\n",
        "\n",
        "client_business_info = \"\"\"\n",
        "Business Name: Doe's Delights\n",
        "Industry: Food and Beverage\n",
        "Business Type: Small bakery specializing in organic and gluten-free products\n",
        "Year Established: 2015\n",
        "Number of Employees: 15\n",
        "Annual Revenue: $500,000\n",
        "Location: 123 Main Street, Springfield, IL\n",
        "\n",
        "Business Summary:\n",
        "Doe's Delights is a local bakery that has carved a niche in the organic and gluten-free segment. Founded in 2015 by Jane Doe, the business has steadily grown, catering to health-conscious consumers in Springfield and surrounding areas. The bakery offers a variety of baked goods, including bread, cakes, cookies, and pastries, all made with high-quality, organic ingredients.\n",
        "\n",
        "Goals:\n",
        "- Increase annual revenue by 20% over the next year\n",
        "- Expand the product line to include vegan options\n",
        "- Open a second location in the neighboring town\n",
        "- Enhance online presence and e-commerce capabilities\n",
        "\n",
        "Difficulties:\n",
        "- Managing supply chain disruptions for organic ingredients\n",
        "- Competition from larger bakeries and supermarkets\n",
        "- Limited marketing budget\n",
        "- Challenges in scaling up production without compromising quality\n",
        "\"\"\""
      ]
    },
    {
      "cell_type": "markdown",
      "metadata": {
        "id": "pffhvqy1qROx"
      },
      "source": [
        "### Adding Memory"
      ]
    },
    {
      "cell_type": "code",
      "execution_count": 83,
      "metadata": {
        "id": "VppkaPv7qMmJ"
      },
      "outputs": [],
      "source": [
        "from langchain.memory import ConversationBufferWindowMemory, ConversationSummaryBufferMemory\n",
        "from langchain.agents import AgentExecutor, create_openai_tools_agent, load_tools\n",
        "\n",
        "memory = ConversationBufferWindowMemory(memory_key = \"chat_history\", return_messages = True, input_key = \"input\", max_token_limit=3000)\n",
        "\n",
        "# print(all_tools)\n",
        "# print(prompt)\n",
        "# Create an agent with all tools\n",
        "agent2 = create_openai_tools_agent(llm, tools, custom_prompt)\n",
        "# Create an agent executor by passing in the agent and tools\n",
        "agent_executor2 = AgentExecutor(agent = agent2, tools = tools, verbose = False, memory = memory, handle_parsing_errors=True)\n"
      ]
    },
    {
      "cell_type": "markdown",
      "metadata": {},
      "source": [
        "## Initiator\n",
        "\n",
        "This will be triggered once the user clicks 'Start' button."
      ]
    },
    {
      "cell_type": "code",
      "execution_count": 84,
      "metadata": {},
      "outputs": [
        {
          "name": "stdout",
          "output_type": "stream",
          "text": [
            "Hello, Jane! Based on your business information and goals, exporting could be a great opportunity for Doe's Delights. Let's start with the basics of exporting. How familiar are you with the concept of exporting for small businesses?\n"
          ]
        }
      ],
      "source": [
        "module_name = \"Exporting\"\n",
        "user_input = f\"Teach me {module_name}\"\n",
        "response = agent_executor2.invoke({\"input\": user_input, 'client_personal_info':client_personal_info, 'client_business_info':client_business_info})\n",
        "print(response['output'])"
      ]
    },
    {
      "cell_type": "markdown",
      "metadata": {},
      "source": [
        "### Evaluation"
      ]
    },
    {
      "cell_type": "code",
      "execution_count": 88,
      "metadata": {
        "colab": {
          "base_uri": "https://localhost:8080/"
        },
        "id": "1-6yNXsnqf42",
        "outputId": "dfec7a4a-54c3-430d-d2f4-9f4c7f3af682"
      },
      "outputs": [
        {
          "name": "stdout",
          "output_type": "stream",
          "text": [
            "Got it! Let's focus on one benefit at a time.\n",
            "\n",
            "**Benefit 1: Increased Sales**\n",
            "\n",
            "Exporting can significantly increase your sales by allowing you to reach customers in new markets. When you sell your baked goods internationally, you can tap into a larger customer base beyond Springfield. This can lead to higher sales volumes, especially if your products resonate well with consumers in those markets.\n",
            "\n",
            "For example, if you find a market that values organic and gluten-free products, you could see a substantial increase in demand for your offerings.\n",
            "\n",
            "Do you have any questions about how increased sales through exporting could impact Doe's Delights? Or can you think of any specific markets where you might want to sell your products?\n"
          ]
        }
      ],
      "source": [
        "user_input = \"Teach me one at a time.\"\n",
        "response = agent_executor2.invoke({\"input\": user_input, 'client_personal_info':client_personal_info, 'client_business_info':client_business_info})\n",
        "print(response['output'])"
      ]
    },
    {
      "cell_type": "code",
      "execution_count": null,
      "metadata": {
        "id": "adinjgt9wm9b"
      },
      "outputs": [],
      "source": []
    }
  ],
  "metadata": {
    "colab": {
      "provenance": []
    },
    "kernelspec": {
      "display_name": "Python 3",
      "name": "python3"
    },
    "language_info": {
      "codemirror_mode": {
        "name": "ipython",
        "version": 3
      },
      "file_extension": ".py",
      "mimetype": "text/x-python",
      "name": "python",
      "nbconvert_exporter": "python",
      "pygments_lexer": "ipython3",
      "version": "3.10.0"
    }
  },
  "nbformat": 4,
  "nbformat_minor": 0
}
