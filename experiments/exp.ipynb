{
 "cells": [
  {
   "cell_type": "markdown",
   "metadata": {},
   "source": [
    "### Loading PDF"
   ]
  },
  {
   "cell_type": "code",
   "execution_count": 1,
   "metadata": {},
   "outputs": [],
   "source": [
    "from langchain.text_splitter import RecursiveCharacterTextSplitter\n",
    "import PyPDF2\n",
    "\n",
    "# Step 1: Extract text from PDF\n",
    "def extract_text_from_pdf(pdf_path):\n",
    "    with open(pdf_path, 'rb') as file:\n",
    "        reader = PyPDF2.PdfReader(file)\n",
    "        text = \"\"\n",
    "        for page_num in range(len(reader.pages)):\n",
    "            page = reader.pages[page_num]\n",
    "            text += page.extract_text()\n",
    "    return text\n",
    "\n",
    "# Extract text from the PDF\n",
    "pdf_path = '../data/export.pdf'\n",
    "text = extract_text_from_pdf(pdf_path)\n"
   ]
  },
  {
   "cell_type": "code",
   "execution_count": 2,
   "metadata": {},
   "outputs": [
    {
     "data": {
      "text/plain": [
       "'1/22/24, 4:06 PM Guide to Small Business Exporting\\nhttps://www.uschamber.com/co/start/strategy/small-business-exporting-guide 1/12Privacy - Terms\\nSTART » STRATEGY\\nA Complete Guide to Small Business Exporting\\nExporting overseas is challenging but rewarding for small businesses.\\nBy: Jessica Elliott , Contributor\\nShare-\\ue912\\ue911\\ue910\\ue91a\\ue909\\nThe potential new markets that small businesses can access through exporting can prove worthy of the extra legwork it\\nrequires. — ijeab/Getty Images\\ue90c\\n\\ue907\\nBy continuing on our website, you agree to our use of cookies for statistical and personalisation purposes.\\nKnow More\\nI AgreeSAVE YOUR SEAT FOR OUR SMALL BUSINESS UPDATE ON JAN. 31 @ 12PM ET! \\ue90d1/22/24, 4:06 PM Guide to Small Business Exporting\\nhttps://www.uschamber.com/co/start/strategy/small-business-exporting-guide 2/12Small- and medium-sized enterprises (SMEs) accounted for $460 billion of the known export\\nvalue in 2019. Yet, e-commerce skyrocketed in 2020, providing more chances for\\ninternational sales. Global growth oﬀers many beneﬁts. It could even give a lifeline to small\\nbusinesses in rural areas.\\nBut selling products globally isn\\'t without risk. It requires research and a plan. Below are\\nanswers to the top questions U.S. small business owners ask about exporting. Plus, you\\'ll ﬁnd\\nan array of resources to help you sell and ship around the world.\\nWhat are the bene\\x00ts of exporting for small businesses?\\nThe U.S. Small Business Administration (SBA) says, “Two-thirds of the world’s purchasing\\npower is in foreign countries.” International trade helps small businesses access new markets\\nand consumers.\\ue90c\\n\\ue907\\nBy continuing on our website, you agree to our use of cookies for statistical and personalisation purposes.\\nKnow MoreSAVE YOUR SEAT FOR OUR SMALL BUSINESS UPDATE ON JAN. 31 @ 12PM ET! \\ue90d1/22/24, 4:06 PM Guide to Small Business Exporting\\nhttps://www.uschamber.com/co/start/strategy/small-business-exporting-guide 3/12\\nA message from\\nBig savings for your small business\\nSave big on everything you need to start the New Year oﬀ right at your small business with\\na special oﬀer from VistaPrint. Take 50% oﬀ wall calendars. Plus, get free standard shipping\\non your orders of $100 or more. Stock up on company swag, printed promo materials,\\nbusiness cards, and other essentials today!\\ue90c\\n\\ue907\\nBy continuing on our website, you agree to our use of cookies for statistical and personalisation purposes.\\nKnow MoreSAVE YOUR SEAT FOR OUR SMALL BUSINESS UPDATE ON JAN. 31 @ 12PM ET! \\ue90d1/22/24, 4:06 PM Guide to Small Business Exporting\\nhttps://www.uschamber.com/co/start/strategy/small-business-exporting-guide 4/12U.S. exporters, on average, grow faster than non-exporting businesses. They also beneﬁt from\\nmarket diversity. Indeed, investing in foreign markets may reduce dependence on the U.S.\\neconomy or any single region.\\nExporting goods and services give small businesses several beneﬁts:\\nAre there risks when exporting internationally?\\nGlobal expansion isn\\'t without its challenges. Regulations, freight networks and other factors\\nexpose small business owners to risk. Moreover, tariﬀs and logistics delays worry\\nentrepreneurs. Other barriers encountered by small businesses include:Shop Now\\nExpand your customer base: The United States represents only 4% of the\\nworld population. Targeting international markets helps companies\\naccess the other 96%.\\nReduce risk to your company: Broad geographic reach insulates small\\ncompanies during an economic downturn, political unrest or natural\\ndisasters.\\nBuild resilience: Small businesses that export are “8.5% less likely to go out\\nof business than non-exporting companies.”\\nIncrease proﬁts: Exporting is a crucial part of any company\\'s growth\\nstrategy. It boosts revenue and creates jobs.\\nExtend product life cycles: Companies time product rollouts to increase their\\nlife cycles—launch, growth, maturity and decline.\\nDecrease production costs: Growing businesses order higher quantities of\\nmaterials and supplies, leading to cost reductions.\\ue90c\\n\\ue907\\nBy continuing on our website, you agree to our use of cookies for statistical and personalisation purposes.\\nKnow MoreSAVE YOUR SEAT FOR OUR SMALL BUSINESS UPDATE ON JAN. 31 @ 12PM ET! \\ue90d1/22/24, 4:06 PM Guide to Small Business Exporting\\nhttps://www.uschamber.com/co/start/strategy/small-business-exporting-guide 5/12What goods or services should I export?\\nMany countries allow U.S. small businesses to export most goods and services. But there are\\nexceptions. Certain regions may limit or prohibit sales. Others aren\\'t ﬁnancially workable.\\nHowever, almost “40% of the known export value of SME exporters” stems from merchant\\nwholesalers selling durable and nondurable goods, according to the U.S. Census Bureau.\\nSubscribe to our newsletter, MIDNIGHT OIL\\nExpert  business advice, news, and trends, delivered weekly\\nBy signing up you agree to the CO— Privacy Policy. You can opt out anytime.Developing a tech stack that supports customers and payments across\\nthe world.\\nAdjusting to cultural di\\x00erences and language barriers.\\nSecuring \\x00nancing for exporting worldwide.\\nEstimating transportation and shipping costs.\\nNavigating problems with global freight networks.\\nAdhering to local and international laws.\\nComplying with trade agreements and regulations.\\nFinding foreign partners to address local commerce issues.\\nLearning how to advertise and market internationally.\\nStaying abreast of international disruptions.\\nUnderstanding individual markets and demographics.\\nEmail Subscribe\\ue90c\\n\\ue907\\nBy continuing on our website, you agree to our use of cookies for statistical and personalisation purposes.\\nKnow MoreSAVE YOUR SEAT FOR OUR SMALL BUSINESS UPDATE ON JAN. 31 @ 12PM ET! \\ue90d1/22/24, 4:06 PM Guide to Small Business Exporting\\nhttps://www.uschamber.com/co/start/strategy/small-business-exporting-guide 6/12Before choosing products to export:\\nWhat country or countries should I export to?\\nCertain areas have greater trade or market-related barriers, and picking the right market can\\nmake the diﬀerence between  exporting success or failure. An estimated 45% of American\\nSMEs do business in 11 or more countries. Nearly 13% export to six to 10 and just over 19% sell\\ngoods and services in two to ﬁve countries.\\nStart your search by using the U.S. Census Bureau\\'s interactive Global Market Finder. Next,\\nexplore the ITA\\'s Country Commercial Guides. Here, you can learn about business customs\\nand market conditions.\\nOften, small businesses begin with international markets covered under Free Trade\\nAgreements (FTAs). There are 14 FTAs comprising 20 countries, including Australia, Mexico,\\nCanada and Singapore. Exporting to countries that fall under U.S. trade agreements may\\nreduce business export barriers and costs. Accordingly, in 2019, 43% of U.S. exports wen t to\\nMexico, Canada, the United Kingdom and Japan.Read through U.S. business export regulations on the International Trade\\nAdministration\\'s (ITA) site. Doing so will give you an idea of the rules and\\nmethods involved.\\nContact the U.S. Department of Commerce\\'s Bureau of Industry and\\nSecurity to see if your small business needs an export license.\\nLearn about your intellectual property (IP) rights when exporting to\\nforeign countries on STOPfakes.gov.\\nPerform international market research at Export.gov to determine market\\nviability.\\nUse the SBA’s Trade Tools for International Sales to develop an export plan,\\nincluding product selection.\\ue902\\ue90c\\n\\ue907\\nBy continuing on our website, you agree to our use of cookies for statistical and personalisation purposes.\\nKnow MoreSAVE YOUR SEAT FOR OUR SMALL BUSINESS UPDATE ON JAN. 31 @ 12PM ET! \\ue90d1/22/24, 4:06 PM Guide to Small Business Exporting\\nhttps://www.uschamber.com/co/start/strategy/small-business-exporting-guide 7/12How can a small business reach foreign consumers?\\nPre-pandemic, \"average monthly online sales represented 37% of total revenue,\" according to\\nAmerican Express. By February 2021, this number rose to 57%. Thanks to the internet, a U.S.\\nsmall business has many ways to connect with people worldwide. Large marketplaces, such as\\neBay, Etsy and Amazon, also oﬀer U.S. trade opportunities.\\nIncrease export sales by using free and low-cost services, such as:\\nCan small- and medium-sized companies get export \\x00nancing?\\nU.S. banks are wary about lending to exporters, but the Small Business Association oﬀers\\nseveral export loan programs. Your local SBA Export Finance Manager or the SBA\\'s Oﬃce of\\nInternational Trade can go over your options and help you take advantage of resources,\\nwhich may include:Once you put in the work, nearly any small business\\ncan be competitive overseas.\\ue902\\nThe Single Company Promotion (SCP): The SCP helps U.S.-based small\\nbusinesses increase brand awareness through a promotional event.\\nThink with Google: Use Google’s free tool to discover potential markets\\nand get tailored recommendations.\\nTrade specialist: Find your local U.S. Commercial Service o\\x00ce or U.S.\\nExport Assistance Center for help selling online to overseas customers.\\nWebsite Globalization Review (WGR): Use the WGR Gap Analysis service to\\nassess your e-commerce channels and improve search engine\\noptimization (SEO).\\nState Trade Expansion Program (STEP): Leverage STEP to access website\\nassistance, design marketing campaigns and explore foreign trade shows.\\ue90c\\n\\ue907\\nBy continuing on our website, you agree to our use of cookies for statistical and personalisation purposes.\\nKnow MoreSAVE YOUR SEAT FOR OUR SMALL BUSINESS UPDATE ON JAN. 31 @ 12PM ET! \\ue90d1/22/24, 4:06 PM Guide to Small Business Exporting\\nhttps://www.uschamber.com/co/start/strategy/small-business-exporting-guide 8/12How will I ship my product overseas?\\nShipping and logistics can be simple for some entrepreneurs. The U.S. Postal Service or third-\\npart y shippers such as DHL or FedEx provide shipping tools and resources. But certain\\nexporters may need extra support.\\nFederal agencies provide information about the international shipping process. Details may\\ninclude shipping options, export documentation protocols and insurance. Since shipping\\ncosts can eat away at your proﬁts, small businesses should compare ﬁgures and price\\nproducts accordingly.\\nCan a small business be competitive overseas?\\nOnce you put in the work, nearly any small business can be competitive overseas. However,\\nsuccess depends on your strategy and market choice. Furthermore, picking the right mix of\\ntechnologies is essential.\\nAn estimated 66% of small business owners believe technology can help subdue the top three\\nbarriers to exporting, according to a report by Google and the U.S. Chamber of Commerce.\\nDigital tools assist with:Export Express loans, which may be approved in about 36 hours for up to\\n$500,000.\\nExport Working Capital loans, which take roughly \\x00ve to 10 days for up to\\n$5 million.\\nInternational Trade Loans, which provide access to up to $5 million for\\n\\x00xed assets, working capital \\x00nancing and debt re\\x00nancing.\\nCommunications challenges.\\nFinance and payment collection.\\nTari\\x00s and customs issues.\\ue90c\\n\\ue907\\nBy continuing on our website, you agree to our use of cookies for statistical and personalisation purposes.\\nKnow MoreSAVE YOUR SEAT FOR OUR SMALL BUSINESS UPDATE ON JAN. 31 @ 12PM ET! \\ue90d1/22/24, 4:06 PM Guide to Small Business Exporting\\nhttps://www.uschamber.com/co/start/strategy/small-business-exporting-guide 9/12For more business strategies—Sell your product and service around the world\\nInternational trade could be the key to overcoming challenges in today\\'s economy. Moreover,\\nit could help small businesses that live outside major cities. In fact, exports increased 5.6%\\nduring the ﬁrst quarter of 2021. Almost 98% of exporters are small- to medium-sized\\ncompanies, so selling goods and services worldwide is an excellent way to create a sustainable\\nbusiness model.\\nTake advantage of support from your local SBA oﬃce and invest in digital technology to\\naccess international consumers and markets.\\nCO— aims to bring you inspiration from leading respected experts. However, before making any\\nbusiness decision, you should consult a professional who can advise you based on your individual\\nsituation.\\nFollow us on Instagram for more expert tips & busine ss owners’ stories.\\nCO—is committed to helping you start, run and grow your small business. Learn more\\nabout the beneﬁts of small busine ss membership in the U.S. Chamber of Commerce, here.\\nPublished June 15, 2021\\ue90c\\n\\ue907\\nBy continuing on our website, you agree to our use of cookies for statistical and personalisation purposes.\\nKnow MoreSAVE YOUR SEAT FOR OUR SMALL BUSINESS UPDATE ON JAN. 31 @ 12PM ET! \\ue90d1/22/24, 4:06 PM Guide to Small Business Exporting\\nhttps://www.uschamber.com/co/start/strategy/small-business-exporting-guide 10/12\\nSTRATEGY\\nLearning to ’Fail Upward’ and How It Can Help Your Grow Your\\nBusiness\\nSTRATEGY\\nDon\\'t Be Afraid of Failure! 4 Smart Strategies for Learning From\\nYour Mistakes\\ue90c\\n\\ue907\\nBy continuing on our website, you agree to our use of cookies for statistical and personalisation purposes.\\nKnow MoreSAVE YOUR SEAT FOR OUR SMALL BUSINESS UPDATE ON JAN. 31 @ 12PM ET! \\ue90d1/22/24, 4:06 PM Guide to Small Business Exporting\\nhttps://www.uschamber.com/co/start/strategy/small-business-exporting-guide 11/12\\nSTRATEGY\\nWhat Every Small Business Needs to Know About the Corporate\\nTransparency Act\\nLooking for local chamber?\\nChamber Finder\\nStay In Touch\\nNewsletter Sign Up\\nInterested in partnering with us?\\nMedia Kit\\nWelcome to CO—\\nDesigned for business owners, CO— is a site that connects like minds and delivers actionable insights\\nfor next-level growth.\\nContact\\nU.S. Chamber of Commerce\\n1615 H Street, NW\\nWashington, DC 20062\\nSocial links\\ue90c\\n\\ue907\\nBy continuing on our website, you agree to our use of cookies for statistical and personalisation purposes.\\nKnow MoreSAVE YOUR SEAT FOR OUR SMALL BUSINESS UPDATE ON JAN. 31 @ 12PM ET! \\ue90d1/22/24, 4:06 PM Guide to Small Business Exporting\\nhttps://www.uschamber.com/co/start/strategy/small-business-exporting-guide 12/12Instagram\\nLinkedIn\\nTwitter\\nFacebook\\nFlipboard\\n© 2024 CO— by U.S. Chamber of Commerce\\nContact\\nAbout Us\\nPrivacy\\nTerms\\nSitemap\\nRSS\\nMedia Kit\\ue90c\\n\\ue907\\nBy continuing on our website, you agree to our use of cookies for statistical and personalisation purposes.\\nKnow MoreSAVE YOUR SEAT FOR OUR SMALL BUSINESS UPDATE ON JAN. 31 @ 12PM ET! \\ue90d'"
      ]
     },
     "execution_count": 2,
     "metadata": {},
     "output_type": "execute_result"
    }
   ],
   "source": [
    "text"
   ]
  },
  {
   "cell_type": "markdown",
   "metadata": {},
   "source": [
    "### Summarize Text"
   ]
  },
  {
   "cell_type": "code",
   "execution_count": 3,
   "metadata": {},
   "outputs": [],
   "source": [
    "from dotenv import load_dotenv\n",
    "import os\n",
    "load_dotenv()\n",
    "pinecone_api_key = os.getenv(\"PINECONE_API_KEY\")\n",
    "openai_api_key = os.getenv(\"OPENAI_API_KEY\")\n",
    "\n",
    "os.environ[\"OPENAI_API_KEY\"] = openai_api_key\n",
    "os.environ[\"PINECONE_API_KEY\"] = pinecone_api_key"
   ]
  },
  {
   "cell_type": "code",
   "execution_count": 53,
   "metadata": {},
   "outputs": [],
   "source": [
    "prompt = \"\"\"Summarize or shorten the following text and generate possible topics for learning content:\\n\\n{chunk}\\n\n",
    "\n",
    "Output format:\n",
    "#starting with open curly bracket\n",
    "\"summary\" : #summary in string,\n",
    "\"topics\" : #dynamic topics, 3 at most, line by line in a single string\n",
    "#closing with curly bracket\n",
    "\"\"\""
   ]
  },
  {
   "cell_type": "code",
   "execution_count": null,
   "metadata": {},
   "outputs": [],
   "source": [
    "# How to use stream\n",
    "# client = OpenAI()\n",
    "\n",
    "# stream = client.chat.completions.create(\n",
    "#     model=\"gpt-3.5-turbo-1106\",\n",
    "#     messages=[{\"role\": \"user\", \"content\": prompt}],\n",
    "#     stream=True,\n",
    "# )\n",
    "# ans = ''\n",
    "# for chunk in stream:\n",
    "#     if chunk.choices[0].delta.content is not None:\n",
    "#         # print(chunk.choices[0].delta.content, end=\" \")\n",
    "#         ans += chunk.choices[0].delta.content\n",
    "#         # print(ans)\n",
    "\n",
    "# return ans"
   ]
  },
  {
   "cell_type": "code",
   "execution_count": 58,
   "metadata": {},
   "outputs": [],
   "source": [
    "import json\n",
    "from openai import OpenAI\n",
    "\n",
    "def summarize_text(text, chunk_size=2000, chunk_overlap=20):\n",
    "    # Split text into chunks using RecursiveCharacterTextSplitter\n",
    "    text_splitter = RecursiveCharacterTextSplitter(chunk_size=chunk_size, chunk_overlap=chunk_overlap)\n",
    "    chunks = text_splitter.split_text(text)\n",
    "    summaries = []\n",
    "    topics = ''\n",
    "    \n",
    "    # Summarize each chunk using OpenAI\n",
    "    def summarize_topics(chunk):\n",
    "\n",
    "        client = OpenAI()\n",
    "        global prompt\n",
    "        prompt = prompt.format(chunk=chunk)\n",
    "        completion = client.chat.completions.create(\n",
    "            model=\"gpt-4o-mini\",\n",
    "            messages=[\n",
    "                {\"role\": \"user\", \"content\": prompt}\n",
    "            ]\n",
    "        )\n",
    "        return completion.choices[0].message.content\n",
    "\n",
    "    # Organize summaries\n",
    "    for chunk in chunks:\n",
    "        result = summarize_topics(chunk)\n",
    "        print(\"Result:\", result)\n",
    "        print(type(result))\n",
    "        json_result = json.loads(result)\n",
    "\n",
    "        summaries.append(json_result['summary'])\n",
    "        topics += json_result['topics']\n",
    "\n",
    "    return (summaries, topics)\n"
   ]
  },
  {
   "cell_type": "markdown",
   "metadata": {},
   "source": [
    "### Generate Topics"
   ]
  },
  {
   "cell_type": "code",
   "execution_count": 93,
   "metadata": {},
   "outputs": [],
   "source": [
    "# # Generate Topics from the summary\n",
    "# def generate_topics(content):\n",
    "#     client = OpenAI()\n",
    "#     completion = client.chat.completions.create(\n",
    "#         model=\"gpt-4o-mini\",\n",
    "#         messages=[\n",
    "#             {\"role\": \"user\", \"content\": prompt}\n",
    "#         ]\n",
    "#     )\n",
    "#     return completion.choices[0].message.content"
   ]
  },
  {
   "cell_type": "code",
   "execution_count": 59,
   "metadata": {},
   "outputs": [
    {
     "name": "stdout",
     "output_type": "stream",
     "text": [
      "Result: {\n",
      "\"summary\" : \"Exporting can be both challenging and rewarding for small businesses, as it enables access to new international markets, potentially enhancing growth and resilience. While exporting offers numerous benefits, such as increased profits and reduced dependency on the domestic economy, it also carries risks, including regulations and logistics delays. Small- and medium-sized enterprises (SMEs) accounted for significant export value in 2019, and the rise of e-commerce provides new opportunities for global sales. Business owners must carefully research and plan their export strategies.\",\n",
      "\"topics\" : \"Benefits of exporting for small businesses\\nRisks and challenges of international trade\\nChoosing goods and services for export\"\n",
      "}\n",
      "<class 'str'>\n",
      "Result: {\n",
      "\"summary\" : \"Exporting presents both challenges and rewards for small businesses. With SMEs contributing $460 billion to U.S. exports in 2019, international sales offer potential growth opportunities, especially after the surge of e-commerce in 2020. Benefits of exporting include market diversification, increased resilience to economic downturns, and enhanced profit margins. However, businesses must navigate risks such as regulations, tariffs, and logistics. Understanding which goods or services to export is crucial, as most are permissible with some exceptions.\",\n",
      "\"topics\" : \"Benefits of Exporting for Small Businesses\\nRisks Associated with International Trade\\nStrategies for Selecting Goods to Export\"\n",
      "}\n",
      "<class 'str'>\n",
      "Result: {\n",
      "\"summary\": \"Exporting offers small businesses access to international markets, allowing them to grow faster, diversify their customer base, and decrease production costs. However, it comes with risks such as regulatory challenges and logistics issues. A successful export strategy can enhance resilience and profitability, but careful research and planning are essential.\",\n",
      "\"topics\": \"Benefits of Exporting for Small Businesses\\nRisks and Challenges of International Trade\\nStrategies for Successful Exporting\"\n",
      "}\n",
      "<class 'str'>\n",
      "Result: {\n",
      "\"summary\" : \"Exporting offers significant opportunities for small businesses, enabling access to international markets and diversifying revenue streams. Despite the challenges posed by regulations, tariffs, and logistics, the benefits include increased profits, reduced business risk, and enhanced resilience. Small and medium-sized enterprises (SMEs) contributed $460 billion in export value, demonstrating their crucial role in global trade. However, careful planning and research are essential to navigate this landscape successfully.\",\n",
      "\"topics\" : \"Benefits of Exporting for Small Businesses\\nRisks and Challenges in International Exporting\\nStrategies for Effective Market Entry\"\n",
      "}\n",
      "<class 'str'>\n",
      "Result: {\n",
      "\"summary\" : \"Exporting can be both challenging and rewarding for small businesses, offering access to international markets and potential growth. In 2019, SMEs contributed $460 billion to U.S. exports, and e-commerce has further increased opportunities for global sales. Benefits of exporting include market diversification, increased resilience, and profit growth, while risks include regulatory hurdles and logistical challenges. Understanding which goods or services to export is crucial, as some markets may have restrictions. The average exporter tends to grow faster than non-exporters, making international trade a vital component of a small business's growth strategy.\",\n",
      "\"topics\" : \"Benefits of Exporting for SMEs\\nRisks and Challenges in Exporting\\nChoosing Goods or Services for Export\"\n",
      "}\n",
      "<class 'str'>\n",
      "Result: {\n",
      "\"summary\" : \"Exporting can be both challenging and rewarding for small businesses, offering access to global markets and potential growth opportunities. Despite risks associated with international trade, such as regulations and logistics, exporters experience faster growth and increased resilience. The U.S. represents only 4% of the world's population, highlighting the importance of targeting international markets. Many goods and services can be exported, with diverse opportunities in durable and nondurable goods. Businesses should develop efficient strategies to support their global efforts.\",\n",
      "\"topics\" : \"Benefits of Exporting for Small Businesses\\nChallenges and Risks in International Trade\\nStrategies for Successful Exporting\"\n",
      "}\n",
      "<class 'str'>\n",
      "Result: {\n",
      "\"summary\" : \"Exporting offers small businesses access to international markets, enhancing growth and resilience while reducing dependence on the U.S. economy. Despite its benefits, exporting involves challenges like regulations, tariffs, and logistics issues. A strategic approach, informed by research, can help SMEs capitalize on global opportunities and navigate the risks associated with international sales.\",\n",
      "\"topics\" : \"Benefits of Exporting for Small Businesses\\nRisks and Challenges in International Trade\\nSelecting Goods and Services for Export\"\n",
      "}\n",
      "<class 'str'>\n",
      "Result: {\n",
      "\"summary\" : \"Exporting can be a transformative opportunity for small businesses, providing access to new markets, increased profits, and resilience against economic downturns. Although it offers many benefits, such as market diversification and reduced dependence on the U.S. economy, exporting also comes with risks, including regulations and logistics challenges. Selecting appropriate goods or services and understanding international markets are key factors in successful exporting.\",\n",
      "\"topics\" : \"Benefits of Exporting for Small Businesses\\nRisks and Challenges in International Trade\\nChoosing Goods and Services for Export\"\n",
      "}\n",
      "<class 'str'>\n"
     ]
    }
   ],
   "source": [
    "sums, topics = summarize_text(text=text)"
   ]
  },
  {
   "cell_type": "code",
   "execution_count": 60,
   "metadata": {},
   "outputs": [
    {
     "data": {
      "text/plain": [
       "['Exporting can be both challenging and rewarding for small businesses, as it enables access to new international markets, potentially enhancing growth and resilience. While exporting offers numerous benefits, such as increased profits and reduced dependency on the domestic economy, it also carries risks, including regulations and logistics delays. Small- and medium-sized enterprises (SMEs) accounted for significant export value in 2019, and the rise of e-commerce provides new opportunities for global sales. Business owners must carefully research and plan their export strategies.',\n",
       " 'Exporting presents both challenges and rewards for small businesses. With SMEs contributing $460 billion to U.S. exports in 2019, international sales offer potential growth opportunities, especially after the surge of e-commerce in 2020. Benefits of exporting include market diversification, increased resilience to economic downturns, and enhanced profit margins. However, businesses must navigate risks such as regulations, tariffs, and logistics. Understanding which goods or services to export is crucial, as most are permissible with some exceptions.',\n",
       " 'Exporting offers small businesses access to international markets, allowing them to grow faster, diversify their customer base, and decrease production costs. However, it comes with risks such as regulatory challenges and logistics issues. A successful export strategy can enhance resilience and profitability, but careful research and planning are essential.',\n",
       " 'Exporting offers significant opportunities for small businesses, enabling access to international markets and diversifying revenue streams. Despite the challenges posed by regulations, tariffs, and logistics, the benefits include increased profits, reduced business risk, and enhanced resilience. Small and medium-sized enterprises (SMEs) contributed $460 billion in export value, demonstrating their crucial role in global trade. However, careful planning and research are essential to navigate this landscape successfully.',\n",
       " \"Exporting can be both challenging and rewarding for small businesses, offering access to international markets and potential growth. In 2019, SMEs contributed $460 billion to U.S. exports, and e-commerce has further increased opportunities for global sales. Benefits of exporting include market diversification, increased resilience, and profit growth, while risks include regulatory hurdles and logistical challenges. Understanding which goods or services to export is crucial, as some markets may have restrictions. The average exporter tends to grow faster than non-exporters, making international trade a vital component of a small business's growth strategy.\",\n",
       " \"Exporting can be both challenging and rewarding for small businesses, offering access to global markets and potential growth opportunities. Despite risks associated with international trade, such as regulations and logistics, exporters experience faster growth and increased resilience. The U.S. represents only 4% of the world's population, highlighting the importance of targeting international markets. Many goods and services can be exported, with diverse opportunities in durable and nondurable goods. Businesses should develop efficient strategies to support their global efforts.\",\n",
       " 'Exporting offers small businesses access to international markets, enhancing growth and resilience while reducing dependence on the U.S. economy. Despite its benefits, exporting involves challenges like regulations, tariffs, and logistics issues. A strategic approach, informed by research, can help SMEs capitalize on global opportunities and navigate the risks associated with international sales.',\n",
       " 'Exporting can be a transformative opportunity for small businesses, providing access to new markets, increased profits, and resilience against economic downturns. Although it offers many benefits, such as market diversification and reduced dependence on the U.S. economy, exporting also comes with risks, including regulations and logistics challenges. Selecting appropriate goods or services and understanding international markets are key factors in successful exporting.']"
      ]
     },
     "execution_count": 60,
     "metadata": {},
     "output_type": "execute_result"
    }
   ],
   "source": [
    "sums"
   ]
  },
  {
   "cell_type": "markdown",
   "metadata": {},
   "source": []
  },
  {
   "cell_type": "code",
   "execution_count": 61,
   "metadata": {},
   "outputs": [
    {
     "name": "stdout",
     "output_type": "stream",
     "text": [
      "Benefits of exporting for small businesses\n",
      "Risks and challenges of international trade\n",
      "Choosing goods and services for exportBenefits of Exporting for Small Businesses\n",
      "Risks Associated with International Trade\n",
      "Strategies for Selecting Goods to ExportBenefits of Exporting for Small Businesses\n",
      "Risks and Challenges of International Trade\n",
      "Strategies for Successful ExportingBenefits of Exporting for Small Businesses\n",
      "Risks and Challenges in International Exporting\n",
      "Strategies for Effective Market EntryBenefits of Exporting for SMEs\n",
      "Risks and Challenges in Exporting\n",
      "Choosing Goods or Services for ExportBenefits of Exporting for Small Businesses\n",
      "Challenges and Risks in International Trade\n",
      "Strategies for Successful ExportingBenefits of Exporting for Small Businesses\n",
      "Risks and Challenges in International Trade\n",
      "Selecting Goods and Services for ExportBenefits of Exporting for Small Businesses\n",
      "Risks and Challenges in International Trade\n",
      "Choosing Goods and Services for Export\n"
     ]
    }
   ],
   "source": [
    "print(topics)"
   ]
  },
  {
   "cell_type": "code",
   "execution_count": null,
   "metadata": {},
   "outputs": [],
   "source": []
  }
 ],
 "metadata": {
  "kernelspec": {
   "display_name": "env",
   "language": "python",
   "name": "python3"
  },
  "language_info": {
   "codemirror_mode": {
    "name": "ipython",
    "version": 3
   },
   "file_extension": ".py",
   "mimetype": "text/x-python",
   "name": "python",
   "nbconvert_exporter": "python",
   "pygments_lexer": "ipython3",
   "version": "3.10.0"
  }
 },
 "nbformat": 4,
 "nbformat_minor": 2
}
