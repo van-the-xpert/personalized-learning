{
  "cells": [
    {
      "cell_type": "code",
      "execution_count": null,
      "metadata": {
        "collapsed": true,
        "id": "6JjuQpU1gmn9"
      },
      "outputs": [],
      "source": [
        "# %pip install -qU pypdf langchain_community\n",
        "# %pip install langchain_chroma langchain_openai langchain_text_splitters\n",
        "# %pip install openai chromadb langchain pypdf\n",
        "# %pip install langchainhub"
      ]
    },
    {
      "cell_type": "markdown",
      "metadata": {
        "id": "xTBeasQ9j3Lq"
      },
      "source": [
        "### Uploading PDF"
      ]
    },
    {
      "cell_type": "code",
      "execution_count": 8,
      "metadata": {
        "colab": {
          "base_uri": "https://localhost:8080/"
        },
        "id": "3DDbgQjbkcn1",
        "outputId": "353774ef-8ad2-43f6-939c-a096972fc8d1"
      },
      "outputs": [
        {
          "name": "stdout",
          "output_type": "stream",
          "text": [
            "12\n"
          ]
        }
      ],
      "source": [
        "from langchain_community.document_loaders import PyPDFLoader\n",
        "from langchain_chroma import Chroma\n",
        "from langchain_openai import OpenAIEmbeddings\n",
        "from langchain_text_splitters import RecursiveCharacterTextSplitter, CharacterTextSplitter\n",
        "import os\n",
        "\n",
        "file_path = \"../data/export.pdf\"\n",
        "loader = PyPDFLoader(file_path)\n",
        "\n",
        "pages = loader.load()\n",
        "\n",
        "print(len(pages))"
      ]
    },
    {
      "cell_type": "markdown",
      "metadata": {
        "id": "eDDCl7Wkkmke"
      },
      "source": [
        "### Splitting content"
      ]
    },
    {
      "cell_type": "code",
      "execution_count": 9,
      "metadata": {
        "id": "dwjl8oqKj2Uw"
      },
      "outputs": [],
      "source": [
        "# Split Text\n",
        "text_splitter = RecursiveCharacterTextSplitter(chunk_size=600, chunk_overlap=20)\n",
        "page_splits = text_splitter.split_documents(pages)\n",
        "# TODO: Summarize each of these splits\n",
        "# Then store them"
      ]
    },
    {
      "cell_type": "code",
      "execution_count": null,
      "metadata": {},
      "outputs": [],
      "source": [
        "page_splits"
      ]
    },
    {
      "cell_type": "code",
      "execution_count": 10,
      "metadata": {},
      "outputs": [
        {
          "data": {
            "text/plain": [
              "31"
            ]
          },
          "execution_count": 10,
          "metadata": {},
          "output_type": "execute_result"
        }
      ],
      "source": [
        "len(page_splits)"
      ]
    },
    {
      "cell_type": "markdown",
      "metadata": {
        "id": "XvhNVB1Z0YUl"
      },
      "source": [
        "### Pinecone Integration"
      ]
    },
    {
      "cell_type": "code",
      "execution_count": null,
      "metadata": {
        "colab": {
          "base_uri": "https://localhost:8080/"
        },
        "id": "DiyaShAH0bHw",
        "outputId": "179b08e0-92a5-43e6-cc5b-77535b70cf50"
      },
      "outputs": [],
      "source": [
        "# %pip install pinecone_notebooks pinecone\n",
        "# %pip install --upgrade --quiet  \\\n",
        "#     langchain-pinecone \\\n",
        "#     langchain-openai \\\n",
        "#     langchain \\\n",
        "#     langchain-community \\\n",
        "#     pinecone-notebooks"
      ]
    },
    {
      "cell_type": "code",
      "execution_count": null,
      "metadata": {
        "colab": {
          "base_uri": "https://localhost:8080/",
          "height": 247
        },
        "id": "ZP4JK4k-0O9Z",
        "outputId": "6e54c518-9d99-4ad9-e67a-c173eb2b545c"
      },
      "outputs": [
        {
          "data": {
            "text/html": [
              "<script type=\"text/javascript\" src=\"https://connect.pinecone.io/embed.js\"></script>"
            ],
            "text/plain": [
              "<IPython.core.display.HTML object>"
            ]
          },
          "metadata": {},
          "output_type": "display_data"
        }
      ],
      "source": [
        "# from pinecone_notebooks.colab import Authenticate\n",
        "\n",
        "# Authenticate()\n",
        "# # This is just to add API key. Actually we can skip this step if we have API key."
      ]
    },
    {
      "cell_type": "markdown",
      "metadata": {},
      "source": [
        "### Exporting Environments"
      ]
    },
    {
      "cell_type": "code",
      "execution_count": 11,
      "metadata": {},
      "outputs": [],
      "source": [
        "from dotenv import load_dotenv\n",
        "load_dotenv()\n",
        "pinecone_api_key = os.getenv(\"PINECONE_API_KEY\")\n",
        "openai_api_key = os.getenv(\"OPENAI_API_KEY\")\n",
        "\n",
        "os.environ[\"OPENAI_API_KEY\"] = openai_api_key\n",
        "os.environ[\"PINECONE_API_KEY\"] = pinecone_api_key"
      ]
    },
    {
      "cell_type": "code",
      "execution_count": 13,
      "metadata": {
        "id": "RjSyjXXFlJBs"
      },
      "outputs": [],
      "source": [
        "# Creating index\n",
        "import time\n",
        "from pinecone import Pinecone, ServerlessSpec\n",
        "pc = Pinecone()\n",
        "\n",
        "# TODO: Get this index name from DB\n",
        "index_name = \"exporting-index\"  # change if desired\n",
        "\n",
        "existing_indexes = [index_info[\"name\"] for index_info in pc.list_indexes()]\n",
        "\n",
        "if index_name not in existing_indexes:\n",
        "    pc.create_index(\n",
        "        name=index_name,\n",
        "        dimension=1536,\n",
        "        metric=\"cosine\",\n",
        "        spec=ServerlessSpec(cloud=\"aws\", region=\"us-east-1\"),\n",
        "    )\n",
        "    while not pc.describe_index(index_name).status[\"ready\"]:\n",
        "        time.sleep(1)\n",
        "\n",
        "index = pc.Index(index_name)"
      ]
    },
    {
      "cell_type": "markdown",
      "metadata": {},
      "source": [
        "### Embed the splitted pages"
      ]
    },
    {
      "cell_type": "code",
      "execution_count": 14,
      "metadata": {
        "id": "YnxzjqYA2Kjm"
      },
      "outputs": [],
      "source": [
        "from langchain_pinecone import PineconeVectorStore\n",
        "embedding_model = OpenAIEmbeddings()\n",
        "vectorstore = PineconeVectorStore.from_documents(page_splits, embedding_model, index_name=index_name)"
      ]
    },
    {
      "cell_type": "code",
      "execution_count": 16,
      "metadata": {},
      "outputs": [
        {
          "name": "stdout",
          "output_type": "stream",
          "text": [
            "Expert  business advice, news, and trends, delivered weekly\n",
            "By signing up you agree to the CO— Privacy Policy. You can opt out anytime.Developing a tech stack that supports customers and payments across\n",
            "the world.\n",
            "Adjusting to cultural di\u0000erences and language barriers.\n",
            "Securing \u0000nancing for exporting worldwide.\n",
            "Estimating transportation and shipping costs.\n",
            "Navigating problems with global freight networks.\n",
            "Adhering to local and international laws.\n",
            "Complying with trade agreements and regulations.\n",
            "Finding foreign partners to address local commerce issues.\n"
          ]
        }
      ],
      "source": [
        "query = \"What is budgeting?\"\n",
        "docs = vectorstore.similarity_search(query)\n",
        "print(docs[0].page_content)"
      ]
    },
    {
      "cell_type": "markdown",
      "metadata": {},
      "source": [
        "### Using the existing vectorstore"
      ]
    },
    {
      "cell_type": "code",
      "execution_count": 22,
      "metadata": {},
      "outputs": [],
      "source": [
        "index_name = \"lesson-1-index\"  # Replace with your actual index name\n",
        "vectorstore2 = PineconeVectorStore.from_existing_index(index_name=index_name, embedding=embedding_model)\n"
      ]
    },
    {
      "cell_type": "code",
      "execution_count": 23,
      "metadata": {
        "colab": {
          "base_uri": "https://localhost:8080/"
        },
        "id": "nkEuN-QT3QYA",
        "outputId": "b8b59e4b-0d73-401a-c3d1-ef5a6d1f5ae1",
        "vscode": {
          "languageId": "javascript"
        }
      },
      "outputs": [
        {
          "name": "stdout",
          "output_type": "stream",
          "text": [
            "May 12, 2023, 08:15am EDT\n",
            "GETTY\n",
            "In the current economic climate, small-business owners face the\n",
            "daunting task of navigating financial challenges while keeping their\n",
            "ventures afloat. Trimming budgets has become a necessity for\n",
            "many, as companies seek innovative ways to cut costs without\n",
            "compromising their operations. While traditional cost-cutting\n"
          ]
        }
      ],
      "source": [
        "query = \"What is budgeting?\"\n",
        "docs = vectorstore2.similarity_search(query)\n",
        "print(docs[0].page_content)"
      ]
    },
    {
      "cell_type": "markdown",
      "metadata": {},
      "source": [
        "### Turn to Retriever"
      ]
    },
    {
      "cell_type": "code",
      "execution_count": 24,
      "metadata": {
        "id": "pC2LjW5BXBJz"
      },
      "outputs": [],
      "source": [
        "retriever = vectorstore.as_retriever(search_type=\"mmr\")\n",
        "retriever2 = vectorstore2.as_retriever(search_type=\"mmr\")"
      ]
    },
    {
      "cell_type": "code",
      "execution_count": null,
      "metadata": {
        "id": "Yljhfwv9XjgS"
      },
      "outputs": [],
      "source": [
        "# found_docs = vectorstore.max_marginal_relevance_search(query, k=2, fetch_k=10)\n",
        "# for i, doc in enumerate(found_docs):\n",
        "#     print(f\"{i + 1}.\", doc.page_content, \"\\n\")"
      ]
    },
    {
      "cell_type": "code",
      "execution_count": null,
      "metadata": {
        "id": "adTRKnSJpCUH"
      },
      "outputs": [],
      "source": [
        "# matched_docs = retriever.invoke(query)\n",
        "# for i, d in enumerate(matched_docs):\n",
        "#     print(f\"\\n## Document {i}\\n\")\n",
        "#     print(d.page_content)"
      ]
    },
    {
      "cell_type": "markdown",
      "metadata": {
        "id": "k-ECFKF6lJR1"
      },
      "source": [
        "### Creating RAG (not necessary for agent)"
      ]
    },
    {
      "cell_type": "code",
      "execution_count": null,
      "metadata": {
        "id": "bFsMKsSnlKtb"
      },
      "outputs": [],
      "source": [
        "from langchain.chains import create_retrieval_chain\n",
        "from langchain.chains.combine_documents import create_stuff_documents_chain\n",
        "from langchain_core.prompts import ChatPromptTemplate\n",
        "\n",
        "system_prompt = (\n",
        "    \"You are an assistant for question-answering tasks. \"\n",
        "    \"Use the following pieces of retrieved context to answer \"\n",
        "    \"the question. If you don't know the answer, say that you \"\n",
        "    \"don't know. Use three sentences maximum and keep the \"\n",
        "    \"answer concise.\"\n",
        "    \"\\n\\n\"\n",
        "    \"{context}\"\n",
        ")\n",
        "\n",
        "prompt = ChatPromptTemplate.from_messages(\n",
        "    [\n",
        "        (\"system\", system_prompt),\n",
        "        (\"human\", \"{input}\"),\n",
        "    ]\n",
        ")\n",
        "\n",
        "from langchain_openai import ChatOpenAI\n",
        "\n",
        "llm = ChatOpenAI(model=\"gpt-4o\", temperature=0)\n",
        "\n",
        "question_answer_chain = create_stuff_documents_chain(llm, prompt)\n",
        "# maximal marginal relevance\n",
        "retriever = vectorstore.as_retriever(search_type=\"mmr\")\n",
        "rag_chain = create_retrieval_chain(retriever, question_answer_chain)"
      ]
    },
    {
      "cell_type": "code",
      "execution_count": null,
      "metadata": {
        "colab": {
          "base_uri": "https://localhost:8080/"
        },
        "id": "dbLokQS2lboC",
        "outputId": "92218be4-df8d-4a98-9f05-62c69bb6c62c"
      },
      "outputs": [
        {
          "name": "stdout",
          "output_type": "stream",
          "text": [
            "1. Implementing Energy-Efficient Practices\n",
            "2. Utilizing Shared Office Spaces\n",
            "3. Reducing Overhead Expenses\n",
            "4. Renegotiating Contracts\n",
            "5. Outsourcing Non-Core Activities\n",
            "6. Leveraging Technology for Cost Savings\n",
            "7. Adopting Remote Work Policies\n",
            "8. Bulk Purchasing and Supplier Negotiations\n",
            "9. Implementing Waste Reduction Strategies\n",
            "10. Exploring Alternative Financing Options\n"
          ]
        }
      ],
      "source": [
        "topic_name = \"Saving topics for small business owners\"\n",
        "results = rag_chain.invoke({\"input\": f\"Create 10 topics for {topic_name}\"})\n",
        "\n",
        "print(results['answer'])"
      ]
    },
    {
      "cell_type": "code",
      "execution_count": null,
      "metadata": {
        "colab": {
          "base_uri": "https://localhost:8080/"
        },
        "id": "zNeuzaM3mBm1",
        "outputId": "fefed1d5-28a4-4195-f128-e40138605625"
      },
      "outputs": [
        {
          "name": "stdout",
          "output_type": "stream",
          "text": [
            "Sure, here are brief explanations for each topic:\n",
            "\n",
            "1. **Automating Manual Processes**: This involves using technology to perform repetitive tasks that were previously done manually. Tools like Zapier can automate data entry between systems, freeing up time for employees to focus on more strategic activities.\n",
            "\n",
            "2. **Negotiating with Suppliers**: This strategy includes researching and comparing prices from different suppliers and then negotiating with your current suppliers to match or beat those prices. This can lead to better pricing and terms, ultimately reducing costs.\n",
            "\n",
            "3. **Outsourcing Non-Core Tasks**: Outsourcing activities such as accounting, IT, or HR to specialized service providers can be more cost-effective than hiring full-time staff. This allows businesses to access expert resources without the associated employment costs.\n",
            "\n",
            "4. **Utilizing Available Space Efficiently**: Making the most of your physical space can help reduce rent and utility costs. This might involve reorganizing your workspace, sharing space with other businesses, or using flexible work arrangements.\n",
            "\n",
            "5. **Refining and Documenting Processes**: Streamlining business processes and documenting them can improve efficiency and reduce errors. Clear documentation ensures that everyone follows the same procedures, leading to consistent outcomes and reduced waste.\n",
            "\n",
            "6. **Leveraging No-Code Tools**: No-code tools, like Zapier or Airtable, allow users to create applications and automate workflows without needing extensive programming knowledge. These tools can help small businesses save time and money by reducing the need for custom software development.\n",
            "\n",
            "7. **Reducing Overhead Expenses**: Cutting down on non-essential expenses, such as utilities, office supplies, or rent, can significantly lower overhead costs. Strategies might include remote work, energy-saving measures, and bulk purchasing.\n",
            "\n",
            "8. **Renegotiating Contracts**: Regularly reviewing and renegotiating contracts with vendors, service providers, and landlords can lead to cost savings. Look for opportunities to secure better terms, lower rates, or additional benefits.\n",
            "\n",
            "9. **Evaluating and Minimizing Waste**: Identifying areas of waste in your business processes can help reduce unnecessary costs. This could involve analyzing supply usage, optimizing inventory management, and implementing more efficient workflows.\n",
            "\n",
            "10. **Engaging Team in Cost-Saving Solutions**: Involving employees in identifying and implementing cost-saving measures can lead to innovative ideas and increased buy-in. Encourage a culture of frugality and continuous improvement, where everyone is motivated to find ways to save money.\n"
          ]
        }
      ],
      "source": [
        "results = rag_chain.invoke({\"input\": f\"\"\"Now teach me the topics 1. Automating Manual Processes\n",
        "2. Negotiating with Suppliers\n",
        "3. Outsourcing Non-Core Tasks\n",
        "4. Utilizing Available Space Efficiently\n",
        "5. Refining and Documenting Processes\n",
        "6. Leveraging No-Code Tools\n",
        "7. Reducing Overhead Expenses\n",
        "8. Renegotiating Contracts\n",
        "9. Evaluating and Minimizing Waste\n",
        "10. Engaging Team in Cost-Saving Solutions\"\"\"})\n",
        "\n",
        "print(results['answer'])"
      ]
    },
    {
      "cell_type": "markdown",
      "metadata": {
        "id": "zpJsuljNnwrg"
      },
      "source": [
        "### Creating RAG as a tool"
      ]
    },
    {
      "cell_type": "code",
      "execution_count": 48,
      "metadata": {
        "id": "BCWKAQL_oU-M"
      },
      "outputs": [],
      "source": [
        "from langchain.tools.retriever import create_retriever_tool\n",
        "tool1 = create_retriever_tool(\n",
        "    retriever,  # The RAG chain instance you are using\n",
        "    \"BudgetingContentRAG\",  # Renamed to better reflect the focus on learning materials\n",
        "    \"Search for information about any learning content. For any questions about learning content, you must use this tool!\",\n",
        ")"
      ]
    },
    {
      "cell_type": "code",
      "execution_count": 49,
      "metadata": {},
      "outputs": [],
      "source": [
        "from langchain.tools.retriever import create_retriever_tool\n",
        "tool2 = create_retriever_tool(\n",
        "    retriever2,  # The RAG chain instance you are using\n",
        "    \"SavingRAG\",  # Renamed to better reflect the focus on learning materials\n",
        "    \"Search for information about any learning content. For any questions about learning content, you must use this tool!\",\n",
        ")"
      ]
    },
    {
      "cell_type": "markdown",
      "metadata": {
        "id": "YM1l7qB8oVKa"
      },
      "source": [
        "### Create Agent"
      ]
    },
    {
      "cell_type": "code",
      "execution_count": 50,
      "metadata": {
        "id": "6SLiAuGVoqE9"
      },
      "outputs": [],
      "source": [
        "tools = [tool1, tool2]"
      ]
    },
    {
      "cell_type": "code",
      "execution_count": 29,
      "metadata": {
        "id": "MNwReCqUoWaw"
      },
      "outputs": [],
      "source": [
        "from langchain_openai import ChatOpenAI\n",
        "\n",
        "llm = ChatOpenAI(model=\"gpt-3.5-turbo\", temperature=0)"
      ]
    },
    {
      "cell_type": "markdown",
      "metadata": {
        "id": "uvCwirYnq34W"
      },
      "source": [
        "### Custom Prompt"
      ]
    },
    {
      "cell_type": "code",
      "execution_count": 30,
      "metadata": {
        "id": "CDcYKTkxrIMf"
      },
      "outputs": [],
      "source": [
        "class AgentPrompts:\n",
        "    agent_system_prompt = \"\"\"\n",
        "    You are an AI learning assistant helping a mentor coach their client on business-related matters.\n",
        "\n",
        "    ```\n",
        "    Client Personal Information:\n",
        "    {client_personal_info}\n",
        "    ```\n",
        "\n",
        "    Client Business Information:\n",
        "    {client_business_info}\n",
        "\n",
        "    Topics to cover:\n",
        "    {topics_to_cover}\n",
        "\n",
        "    You are responsible for assessing the user's understanding of each topic. Use the RAG (Retrieval-Augmented Generation) tool, which has access to knowledge from an uploaded PDF file, to generate relevant content. The assistant should cover the topics sequentially, ensuring the user comprehends each topic before moving to the next one.\n",
        "\n",
        "### Example Conversation Flow:\n",
        "\n",
        "**Initial Conversation Starter:**\n",
        "\"Hello! Based on the client's business information and the topics we need to cover, I recommend starting with [specific topic]. How familiar are you with this topic?\"\n",
        "\n",
        "**Proceeding Based on Understanding:**\n",
        "\n",
        "1. **Introduction to Topic:**\n",
        "   - Provide a brief overview of the topic using content generated by the RAG tool.\n",
        "   - Example: \"Let's begin with an overview of [specific topic]. Here's a brief introduction: [content from RAG].\"\n",
        "\n",
        "2. **Assess Understanding:**\n",
        "   - Ask questions to gauge the user's understanding.\n",
        "   - Example: \"Do you have any questions about this overview? Can you explain how this might apply to your business?\"\n",
        "\n",
        "3. **Deepen Understanding:**\n",
        "   - Provide more detailed information or examples if the user needs more clarity.\n",
        "   - Example: \"Here are more details about [specific aspect]. [content from RAG]. How do you think this could impact your current business strategy?\"\n",
        "\n",
        "4. **Confirm Understanding:**\n",
        "   - Ensure the user understands before moving on.\n",
        "   - Example: \"Great! Do you feel comfortable with this topic, or is there anything else you'd like to explore further?\"\n",
        "\n",
        "5. **Transition to Next Topic:**\n",
        "   - Once understanding is confirmed, move to the next topic.\n",
        "   - Example: \"Since you're comfortable with [current topic], let's move on to [next topic]. Here's an overview: [content from RAG].\"\n",
        "\n",
        "This approach ensures a structured learning experience, allowing the user to build knowledge step-by-step while leveraging the content generated from the RAG tool.\n",
        "\"\"\"\n",
        "\n",
        "\n",
        "\n",
        "topics_generator_prompt = agent_system_prompt = \"\"\"\n",
        "You are an AI learning assistant helping a mentor coach their client on business-related matters.\n",
        "\n",
        "```\n",
        "Client Personal Information:\n",
        "{client_personal_info}\n",
        "```\n",
        "\n",
        "Client Business Information:\n",
        "{client_business_info}\n",
        "\n",
        "Generate 10 topics for a small business owner.\n",
        "The module name is: {module_name}\n",
        "\"\"\"\n"
      ]
    },
    {
      "cell_type": "markdown",
      "metadata": {
        "id": "UPbUsC_K1RMd"
      },
      "source": [
        "### Topics Agent"
      ]
    },
    {
      "cell_type": "code",
      "execution_count": 51,
      "metadata": {
        "id": "R07PtC9v1UpP"
      },
      "outputs": [],
      "source": [
        "from langchain_core.prompts import ChatPromptTemplate, MessagesPlaceholder\n",
        "custom_prompt_topic = ChatPromptTemplate.from_messages(\n",
        "    [\n",
        "        (\"system\", topics_generator_prompt),\n",
        "        # MessagesPlaceholder(\"chat_history\", optional=False),\n",
        "        (\"human\", \"{input}\"),\n",
        "        MessagesPlaceholder(\"agent_scratchpad\"),\n",
        "    ]\n",
        ")\n",
        "custom_prompt_topic = custom_prompt_topic.partial(module_name=\"Saving Tips for Small Business Owners\")"
      ]
    },
    {
      "cell_type": "code",
      "execution_count": 52,
      "metadata": {
        "colab": {
          "base_uri": "https://localhost:8080/"
        },
        "id": "B0o6VUxq3WJz",
        "outputId": "59bf3610-2ebc-4e3d-d1a7-cbd290ba62e0"
      },
      "outputs": [
        {
          "data": {
            "text/plain": [
              "ChatPromptTemplate(input_variables=['agent_scratchpad', 'client_business_info', 'client_personal_info', 'input'], input_types={'agent_scratchpad': typing.List[typing.Union[langchain_core.messages.ai.AIMessage, langchain_core.messages.human.HumanMessage, langchain_core.messages.chat.ChatMessage, langchain_core.messages.system.SystemMessage, langchain_core.messages.function.FunctionMessage, langchain_core.messages.tool.ToolMessage]]}, partial_variables={'module_name': 'Saving Tips for Small Business Owners'}, messages=[SystemMessagePromptTemplate(prompt=PromptTemplate(input_variables=['client_business_info', 'client_personal_info', 'module_name'], template='\\nYou are an AI learning assistant helping a mentor coach their client on business-related matters.\\n\\n```\\nClient Personal Information:\\n{client_personal_info}\\n```\\n\\nClient Business Information:\\n{client_business_info}\\n\\nGenerate 10 topics for a small business owner.\\nThe module name is: {module_name}\\n')), HumanMessagePromptTemplate(prompt=PromptTemplate(input_variables=['input'], template='{input}')), MessagesPlaceholder(variable_name='agent_scratchpad')])"
            ]
          },
          "execution_count": 52,
          "metadata": {},
          "output_type": "execute_result"
        }
      ],
      "source": [
        "custom_prompt_topic"
      ]
    },
    {
      "cell_type": "code",
      "execution_count": 53,
      "metadata": {
        "id": "GUBZJCg313Ok"
      },
      "outputs": [],
      "source": [
        "from langchain.agents import AgentExecutor, create_openai_tools_agent, load_tools\n",
        "all_tools = tools\n",
        "# Create an agent with all tools\n",
        "topic_agent = create_openai_tools_agent(llm, all_tools, custom_prompt_topic)\n",
        "# Create an agent executor by passing in the agent and tools\n",
        "topic_agent_executor = AgentExecutor(agent = topic_agent, tools = all_tools, verbose = True, handle_parsing_errors=True)"
      ]
    },
    {
      "cell_type": "code",
      "execution_count": 55,
      "metadata": {
        "id": "uu1XacBZ2CeU"
      },
      "outputs": [
        {
          "name": "stdout",
          "output_type": "stream",
          "text": [
            "\n",
            "\n",
            "\u001b[1m> Entering new AgentExecutor chain...\u001b[0m\n",
            "\u001b[32;1m\u001b[1;3m\n",
            "Invoking: `SavingRAG` with `{'query': 'Cost-cutting strategies for small businesses'}`\n",
            "\n",
            "\n",
            "\u001b[0m\u001b[33;1m\u001b[1;3m1/22/24, 4:05 PM 17 Unconventional Money-Saving Tips For Small-Business Owners\n",
            "https://www.forbes.com/sites/forbesbusinesscouncil/2023/05/12/17-unconventional-money-saving-tips-for-small-business-owners/?sh=79bdd1b9296f 4/7do it in-house, and it frees up the business to focus on its core\n",
            "competencies. - Jeremiah Runyon , Superior Logistics Ohio\n",
            "6. Implement Energy-Efﬁcient Practices\n",
            "And Shared Ofﬁce Spaces\n",
            "Small-business owners can consider implementing energy-efficient\n",
            "practices to save on utilities, such as switching to LED lighting,\n",
            "programmable thermostats and upgrading to energy-efficient\n",
            "\n",
            "Chris Clear , Clear Storage Group, LLC\n",
            "17. Focus On Reﬁnement And Solving\n",
            "Problems\n",
            "Two tactics that have never failed me are documenting existing\n",
            "processes to see if process refinement can reduce costs and asking\n",
            "my team how they would solve the problem. These two activities\n",
            "always uncover ways to reduce spending, often without reducing\n",
            "headcount. If workforce reduction is the knee-jerk tactic you rely on\n",
            "for reducing spend, you shouldn't be running a company. - Ty\n",
            "Allen , SocialClimb\n",
            "Check out my website . \n",
            "Expert Panel®\n",
            "\n",
            "16. Find Creative Ways To Cut Costs\n",
            "In the current economic environment, traditional ways to trim\n",
            "budgets may not work, so you need to be creative. In the storage\n",
            "industry, we're limited to the rates the market will pay. We're also\n",
            "\n",
            "costs can eat away at your proﬁts, small businesses should compare ﬁgures and price\n",
            "products accordingly.\n",
            "Can a small business be competitive overseas?\n",
            "Once you put in the work, nearly any small business can be competitive overseas. However,\n",
            "success depends on your strategy and market choice. Furthermore, picking the right mix of\n",
            "technologies is essential.\n",
            "An estimated 66% of small business owners believe technology can help subdue the top three\n",
            "barriers to exporting, according to a report by Google and the U.S. Chamber of Commerce.\u001b[0m\u001b[32;1m\u001b[1;3m\n",
            "Invoking: `SavingRAG` with `{'query': 'Financial planning tips for small business owners'}`\n",
            "\n",
            "\n",
            "\u001b[0m\u001b[33;1m\u001b[1;3m1/22/24, 4:05 PM 17 Unconventional Money-Saving Tips For Small-Business Owners\n",
            "https://www.forbes.com/sites/forbesbusinesscouncil/2023/05/12/17-unconventional-money-saving-tips-for-small-business-owners/?sh=79bdd1b9296f 4/7do it in-house, and it frees up the business to focus on its core\n",
            "competencies. - Jeremiah Runyon , Superior Logistics Ohio\n",
            "6. Implement Energy-Efﬁcient Practices\n",
            "And Shared Ofﬁce Spaces\n",
            "Small-business owners can consider implementing energy-efficient\n",
            "practices to save on utilities, such as switching to LED lighting,\n",
            "programmable thermostats and upgrading to energy-efficient\n",
            "\n",
            "viability.\n",
            "Use the SBA’s Trade Tools for International Sales to develop an export plan,\n",
            "including product selection.\n",
            "\n",
            "By continuing on our website, you agree to our use of cookies for statistical and personalisation purposes.\n",
            "Know MoreSAVE YOUR SEAT FOR OUR SMALL BUSINESS UPDATE ON JAN. 31 @ 12PM ET! \n",
            "\n",
            "and overhead. - Jacopo Dalessandris , Canidae\n",
            "7. Invest In Software Tools And Automation\n",
            "Leverage the power of technology to optimize operations. By\n",
            "investing in software tools and automation, entrepreneurs can\n",
            "streamline workflows, reduce manual labor, eliminate redundancy\n",
            "and cut down on expenses. Implementing a cloud-based accounting\n",
            "system or project management tools, for instance, can save time\n",
            "and money while enabling the business to be more efficient and\n",
            "profitable. - Leigh Burgess , Bold Industries Group, Inc.\n",
            "8. Consider Longer-Term Commitments\n",
            "With Reliable Vendors Or Services\n",
            "\n",
            "costs can eat away at your proﬁts, small businesses should compare ﬁgures and price\n",
            "products accordingly.\n",
            "Can a small business be competitive overseas?\n",
            "Once you put in the work, nearly any small business can be competitive overseas. However,\n",
            "success depends on your strategy and market choice. Furthermore, picking the right mix of\n",
            "technologies is essential.\n",
            "An estimated 66% of small business owners believe technology can help subdue the top three\n",
            "barriers to exporting, according to a report by Google and the U.S. Chamber of Commerce.\u001b[0m\u001b[32;1m\u001b[1;3m\n",
            "Invoking: `SavingRAG` with `{'query': 'Effective budgeting techniques for small businesses'}`\n",
            "\n",
            "\n",
            "\u001b[0m\u001b[33;1m\u001b[1;3m1/22/24, 4:05 PM 17 Unconventional Money-Saving Tips For Small-Business Owners\n",
            "https://www.forbes.com/sites/forbesbusinesscouncil/2023/05/12/17-unconventional-money-saving-tips-for-small-business-owners/?sh=79bdd1b9296f 4/7do it in-house, and it frees up the business to focus on its core\n",
            "competencies. - Jeremiah Runyon , Superior Logistics Ohio\n",
            "6. Implement Energy-Efﬁcient Practices\n",
            "And Shared Ofﬁce Spaces\n",
            "Small-business owners can consider implementing energy-efficient\n",
            "practices to save on utilities, such as switching to LED lighting,\n",
            "programmable thermostats and upgrading to energy-efficient\n",
            "\n",
            "Chris Clear , Clear Storage Group, LLC\n",
            "17. Focus On Reﬁnement And Solving\n",
            "Problems\n",
            "Two tactics that have never failed me are documenting existing\n",
            "processes to see if process refinement can reduce costs and asking\n",
            "my team how they would solve the problem. These two activities\n",
            "always uncover ways to reduce spending, often without reducing\n",
            "headcount. If workforce reduction is the knee-jerk tactic you rely on\n",
            "for reducing spend, you shouldn't be running a company. - Ty\n",
            "Allen , SocialClimb\n",
            "Check out my website . \n",
            "Expert Panel®\n",
            "\n",
            "and overhead. - Jacopo Dalessandris , Canidae\n",
            "7. Invest In Software Tools And Automation\n",
            "Leverage the power of technology to optimize operations. By\n",
            "investing in software tools and automation, entrepreneurs can\n",
            "streamline workflows, reduce manual labor, eliminate redundancy\n",
            "and cut down on expenses. Implementing a cloud-based accounting\n",
            "system or project management tools, for instance, can save time\n",
            "and money while enabling the business to be more efficient and\n",
            "profitable. - Leigh Burgess , Bold Industries Group, Inc.\n",
            "8. Consider Longer-Term Commitments\n",
            "With Reliable Vendors Or Services\n",
            "\n",
            "costs can eat away at your proﬁts, small businesses should compare ﬁgures and price\n",
            "products accordingly.\n",
            "Can a small business be competitive overseas?\n",
            "Once you put in the work, nearly any small business can be competitive overseas. However,\n",
            "success depends on your strategy and market choice. Furthermore, picking the right mix of\n",
            "technologies is essential.\n",
            "An estimated 66% of small business owners believe technology can help subdue the top three\n",
            "barriers to exporting, according to a report by Google and the U.S. Chamber of Commerce.\u001b[0m\u001b[32;1m\u001b[1;3m\n",
            "Invoking: `SavingRAG` with `{'query': 'Maximizing profits through efficient operations'}`\n",
            "\n",
            "\n",
            "\u001b[0m\u001b[33;1m\u001b[1;3mand overhead. - Jacopo Dalessandris , Canidae\n",
            "7. Invest In Software Tools And Automation\n",
            "Leverage the power of technology to optimize operations. By\n",
            "investing in software tools and automation, entrepreneurs can\n",
            "streamline workflows, reduce manual labor, eliminate redundancy\n",
            "and cut down on expenses. Implementing a cloud-based accounting\n",
            "system or project management tools, for instance, can save time\n",
            "and money while enabling the business to be more efficient and\n",
            "profitable. - Leigh Burgess , Bold Industries Group, Inc.\n",
            "8. Consider Longer-Term Commitments\n",
            "With Reliable Vendors Or Services\n",
            "\n",
            "Increase proﬁts: Exporting is a crucial part of any company's growth\n",
            "strategy. It boosts revenue and creates jobs.\n",
            "Extend product life cycles: Companies time product rollouts to increase their\n",
            "life cycles—launch, growth, maturity and decline.\n",
            "Decrease production costs: Growing businesses order higher quantities of\n",
            "materials and supplies, leading to cost reductions.\n",
            "\n",
            "By continuing on our website, you agree to our use of cookies for statistical and personalisation purposes.\n",
            "Know MoreSAVE YOUR SEAT FOR OUR SMALL BUSINESS UPDATE ON JAN. 31 @ 12PM ET! \n",
            "\n",
            "May 12, 2023, 08:15am EDT\n",
            "GETTY\n",
            "In the current economic climate, small-business owners face the\n",
            "daunting task of navigating financial challenges while keeping their\n",
            "ventures afloat. Trimming budgets has become a necessity for\n",
            "many, as companies seek innovative ways to cut costs without\n",
            "compromising their operations. While traditional cost-cutting\n",
            "\n",
            "Chris Clear , Clear Storage Group, LLC\n",
            "17. Focus On Reﬁnement And Solving\n",
            "Problems\n",
            "Two tactics that have never failed me are documenting existing\n",
            "processes to see if process refinement can reduce costs and asking\n",
            "my team how they would solve the problem. These two activities\n",
            "always uncover ways to reduce spending, often without reducing\n",
            "headcount. If workforce reduction is the knee-jerk tactic you rely on\n",
            "for reducing spend, you shouldn't be running a company. - Ty\n",
            "Allen , SocialClimb\n",
            "Check out my website . \n",
            "Expert Panel®\u001b[0m\u001b[32;1m\u001b[1;3m\n",
            "Invoking: `SavingRAG` with `{'query': 'Negotiation skills for reducing business expenses'}`\n",
            "\n",
            "\n",
            "\u001b[0m\u001b[33;1m\u001b[1;3m15. Ask For Discounts\n",
            "Small-business owners can save money by negotiating with vendors\n",
            "for better pricing or payment terms. This could include requesting\n",
            "discounts for bulk purchases or early payments or seeking out\n",
            "alternative vendors who offer more competitive pricing. By\n",
            "negotiating, businesses can save money and increase their bottom\n",
            "line. - Chase Hughes , Pro Business Plans\n",
            "16. Find Creative Ways To Cut Costs\n",
            "In the current economic environment, traditional ways to trim\n",
            "budgets may not work, so you need to be creative. In the storage\n",
            "\n",
            "Chris Clear , Clear Storage Group, LLC\n",
            "17. Focus On Reﬁnement And Solving\n",
            "Problems\n",
            "Two tactics that have never failed me are documenting existing\n",
            "processes to see if process refinement can reduce costs and asking\n",
            "my team how they would solve the problem. These two activities\n",
            "always uncover ways to reduce spending, often without reducing\n",
            "headcount. If workforce reduction is the knee-jerk tactic you rely on\n",
            "for reducing spend, you shouldn't be running a company. - Ty\n",
            "Allen , SocialClimb\n",
            "Check out my website . \n",
            "Expert Panel®\n",
            "\n",
            "and overhead. - Jacopo Dalessandris , Canidae\n",
            "7. Invest In Software Tools And Automation\n",
            "Leverage the power of technology to optimize operations. By\n",
            "investing in software tools and automation, entrepreneurs can\n",
            "streamline workflows, reduce manual labor, eliminate redundancy\n",
            "and cut down on expenses. Implementing a cloud-based accounting\n",
            "system or project management tools, for instance, can save time\n",
            "and money while enabling the business to be more efficient and\n",
            "profitable. - Leigh Burgess , Bold Industries Group, Inc.\n",
            "8. Consider Longer-Term Commitments\n",
            "With Reliable Vendors Or Services\n",
            "\n",
            "May 12, 2023, 08:15am EDT\n",
            "GETTY\n",
            "In the current economic climate, small-business owners face the\n",
            "daunting task of navigating financial challenges while keeping their\n",
            "ventures afloat. Trimming budgets has become a necessity for\n",
            "many, as companies seek innovative ways to cut costs without\n",
            "compromising their operations. While traditional cost-cutting\u001b[0m\u001b[32;1m\u001b[1;3m\n",
            "Invoking: `SavingRAG` with `{'query': 'Investment strategies for small business growth'}`\n",
            "\n",
            "\n",
            "\u001b[0m\u001b[33;1m\u001b[1;3m1/22/24, 4:06 PM Guide to Small Business Exporting\n",
            "https://www.uschamber.com/co/start/strategy/small-business-exporting-guide 10/12\n",
            "STRATEGY\n",
            "Learning to ’Fail Upward’ and How It Can Help Your Grow Your\n",
            "Business\n",
            "STRATEGY\n",
            "Don't Be Afraid of Failure! 4 Smart Strategies for Learning From\n",
            "Your Mistakes\n",
            "\n",
            "By continuing on our website, you agree to our use of cookies for statistical and personalisation purposes.\n",
            "Know MoreSAVE YOUR SEAT FOR OUR SMALL BUSINESS UPDATE ON JAN. 31 @ 12PM ET! \n",
            "\n",
            "and overhead. - Jacopo Dalessandris , Canidae\n",
            "7. Invest In Software Tools And Automation\n",
            "Leverage the power of technology to optimize operations. By\n",
            "investing in software tools and automation, entrepreneurs can\n",
            "streamline workflows, reduce manual labor, eliminate redundancy\n",
            "and cut down on expenses. Implementing a cloud-based accounting\n",
            "system or project management tools, for instance, can save time\n",
            "and money while enabling the business to be more efficient and\n",
            "profitable. - Leigh Burgess , Bold Industries Group, Inc.\n",
            "8. Consider Longer-Term Commitments\n",
            "With Reliable Vendors Or Services\n",
            "\n",
            "business model.\n",
            "Take advantage of support from your local SBA oﬃce and invest in digital technology to\n",
            "access international consumers and markets.\n",
            "CO— aims to bring you inspiration from leading respected experts. However, before making any\n",
            "business decision, you should consult a professional who can advise you based on your individual\n",
            "situation.\n",
            "Follow us on Instagram for more expert tips & busine ss owners’ stories.\n",
            "CO—is committed to helping you start, run and grow your small business. Learn more\n",
            "about the beneﬁts of small busine ss membership in the U.S. Chamber of Commerce, here.\n",
            "\n",
            "Can small- and medium-sized companies get export \u0000nancing?\n",
            "U.S. banks are wary about lending to exporters, but the Small Business Association oﬀers\n",
            "several export loan programs. Your local SBA Export Finance Manager or the SBA's Oﬃce of\n",
            "International Trade can go over your options and help you take advantage of resources,\n",
            "which may include:Once you put in the work, nearly any small business\n",
            "can be competitive overseas.\n",
            "The Single Company Promotion (SCP): The SCP helps U.S.-based small\n",
            "businesses increase brand awareness through a promotional event.\u001b[0m\u001b[32;1m\u001b[1;3m\n",
            "Invoking: `SavingRAG` with `{'query': 'Tax-saving methods for small business owners'}`\n",
            "\n",
            "\n",
            "\u001b[0m\u001b[33;1m\u001b[1;3m1/22/24, 4:05 PM 17 Unconventional Money-Saving Tips For Small-Business Owners\n",
            "https://www.forbes.com/sites/forbesbusinesscouncil/2023/05/12/17-unconventional-money-saving-tips-for-small-business-owners/?sh=79bdd1b9296f 4/7do it in-house, and it frees up the business to focus on its core\n",
            "competencies. - Jeremiah Runyon , Superior Logistics Ohio\n",
            "6. Implement Energy-Efﬁcient Practices\n",
            "And Shared Ofﬁce Spaces\n",
            "Small-business owners can consider implementing energy-efficient\n",
            "practices to save on utilities, such as switching to LED lighting,\n",
            "programmable thermostats and upgrading to energy-efficient\n",
            "\n",
            "in check. - Leeatt Rothschild , Packed with Purpose\n",
            "5. Utilize A Professional Employer\n",
            "Organization\n",
            "A great way for companies to save is by looking to a professional\n",
            "employer organization (PEO) to handle all HR and payroll needs. A\n",
            "PEO can handle your payroll and tax filing, benefits administration,\n",
            "compliance, risk and safety, HR support and even talent\n",
            "management. They do all of this for usually cheaper than you can\n",
            "\n",
            "and overhead. - Jacopo Dalessandris , Canidae\n",
            "7. Invest In Software Tools And Automation\n",
            "Leverage the power of technology to optimize operations. By\n",
            "investing in software tools and automation, entrepreneurs can\n",
            "streamline workflows, reduce manual labor, eliminate redundancy\n",
            "and cut down on expenses. Implementing a cloud-based accounting\n",
            "system or project management tools, for instance, can save time\n",
            "and money while enabling the business to be more efficient and\n",
            "profitable. - Leigh Burgess , Bold Industries Group, Inc.\n",
            "8. Consider Longer-Term Commitments\n",
            "With Reliable Vendors Or Services\n",
            "\n",
            "15. Ask For Discounts\n",
            "Small-business owners can save money by negotiating with vendors\n",
            "for better pricing or payment terms. This could include requesting\n",
            "discounts for bulk purchases or early payments or seeking out\n",
            "alternative vendors who offer more competitive pricing. By\n",
            "negotiating, businesses can save money and increase their bottom\n",
            "line. - Chase Hughes , Pro Business Plans\n",
            "16. Find Creative Ways To Cut Costs\n",
            "In the current economic environment, traditional ways to trim\n",
            "budgets may not work, so you need to be creative. In the storage\u001b[0m\u001b[32;1m\u001b[1;3m\n",
            "Invoking: `SavingRAG` with `{'query': 'Cash flow management in small businesses'}`\n",
            "\n",
            "\n",
            "\u001b[0m\u001b[33;1m\u001b[1;3mBy delegating functions like accounting, IT or HR to specialized\n",
            "service providers, small-business owners can access expert\n",
            "resources at a fraction of the cost of hiring full-time staff, allowing\n",
            "them to focus on core competencies and strategically allocate their\n",
            "budgets. - Dustin Lemick , BriteCo\n",
            "11. Leverage Net 30 Terms\n",
            "The ability to leverage net 30 terms or shorten them for quicker,\n",
            "early pay discounts can help trim costs if cash flow is managed well.\n",
            "Others may be hindered, so having the ability to extend terms may\n",
            "aid in improving cash flow and interest costs as well. Supply chain\n",
            "\n",
            "Can small- and medium-sized companies get export \u0000nancing?\n",
            "U.S. banks are wary about lending to exporters, but the Small Business Association oﬀers\n",
            "several export loan programs. Your local SBA Export Finance Manager or the SBA's Oﬃce of\n",
            "International Trade can go over your options and help you take advantage of resources,\n",
            "which may include:Once you put in the work, nearly any small business\n",
            "can be competitive overseas.\n",
            "The Single Company Promotion (SCP): The SCP helps U.S.-based small\n",
            "businesses increase brand awareness through a promotional event.\n",
            "\n",
            "May 12, 2023, 08:15am EDT\n",
            "GETTY\n",
            "In the current economic climate, small-business owners face the\n",
            "daunting task of navigating financial challenges while keeping their\n",
            "ventures afloat. Trimming budgets has become a necessity for\n",
            "many, as companies seek innovative ways to cut costs without\n",
            "compromising their operations. While traditional cost-cutting\n",
            "\n",
            "Below, 17 Forbes Business Council  members share unconventional\n",
            "yet effective approaches many small-business owners might not\n",
            "have considered, offering hidden gems to help achieve financial\n",
            "stability and sustainability.\n",
            "1. Evaluate Waste\n",
            "Look at all manual processes, particularly those that require data\n",
            "entry from one system to another. If a process can be automated\n",
            "using no-code tools like Zapier, then individual contributors can\n",
            "increase their capacity for work without working longer hours. Most\n",
            "businesses' largest cost is people, so getting more done with a\u001b[0m\u001b[32;1m\u001b[1;3m\n",
            "Invoking: `SavingRAG` with `{'query': 'Reducing overhead costs in a small business'}`\n",
            "\n",
            "\n",
            "\u001b[0m\u001b[33;1m\u001b[1;3musing no-code tools like Zapier, then individual contributors can\n",
            "increase their capacity for work without working longer hours. Most\n",
            "businesses' largest cost is people, so getting more done with a\n",
            "leaner team means more goes to the bottom line. - Ian Bouchett ,\n",
            "Ledgr\n",
            "2. Analyze And Reduce Technology Costs\n",
            "By analyzing and reducing technology costs, small-business owners\n",
            "can save significant money without sacrificing productivity. This\n",
            "can range from simplifying software licensing to switching to cloud-\n",
            "based storage solutions. Staying up-to-date on new technology\n",
            "\n",
            "1/22/24, 4:05 PM 17 Unconventional Money-Saving Tips For Small-Business Owners\n",
            "https://www.forbes.com/sites/forbesbusinesscouncil/2023/05/12/17-unconventional-money-saving-tips-for-small-business-owners/?sh=79bdd1b9296f 2/7strategies like reducing overhead expenses and renegotiating\n",
            "contracts may be top of mind, several lesser-known and often\n",
            "overlooked tips for saving money can provide significant relief.\n",
            "Below, 17 Forbes Business Council  members share unconventional\n",
            "yet effective approaches many small-business owners might not\n",
            "have considered, offering hidden gems to help achieve financial\n",
            "\n",
            "Others may be hindered, so having the ability to extend terms may\n",
            "aid in improving cash flow and interest costs as well. Supply chain\n",
            "efficiency for savings in shipping may also work to support\n",
            "businesses during delays for receipt of items. - Paul L. Gunn, Jr. ,\n",
            "KUOG Corporation\n",
            "12. Purchase Wholesale Supplies\n",
            "Start buying supplies wholesale and manufacture directly. For the\n",
            "past 35 years, we have purchased our boxes to package our plants\n",
            "from a major retailer. I went to the wholesale manufacturer and\n",
            "\n",
            "deals. Start by researching and comparing prices and terms offered\n",
            "by different suppliers. Then, approach current suppliers and ask if\n",
            "they can match or beat the prices and terms offered by their\n",
            "competitors. - Trey Ferro , Spot Pet Insurance\n",
            "10. Outsource Additional Tasks\n",
            "One often-overlooked cost-saving tip is outsourcing non-core tasks.\n",
            "By delegating functions like accounting, IT or HR to specialized\n",
            "service providers, small-business owners can access expert\n",
            "resources at a fraction of the cost of hiring full-time staff, allowing\u001b[0m\u001b[32;1m\u001b[1;3m\n",
            "Invoking: `SavingRAG` with `{'query': 'Smart purchasing practices for small business sustainability'}`\n",
            "\n",
            "\n",
            "\u001b[0m\u001b[33;1m\u001b[1;3m1/22/24, 4:05 PM 17 Unconventional Money-Saving Tips For Small-Business Owners\n",
            "https://www.forbes.com/sites/forbesbusinesscouncil/2023/05/12/17-unconventional-money-saving-tips-for-small-business-owners/?sh=79bdd1b9296f 4/7do it in-house, and it frees up the business to focus on its core\n",
            "competencies. - Jeremiah Runyon , Superior Logistics Ohio\n",
            "6. Implement Energy-Efﬁcient Practices\n",
            "And Shared Ofﬁce Spaces\n",
            "Small-business owners can consider implementing energy-efficient\n",
            "practices to save on utilities, such as switching to LED lighting,\n",
            "programmable thermostats and upgrading to energy-efficient\n",
            "\n",
            "and money while enabling the business to be more efficient and\n",
            "profitable. - Leigh Burgess , Bold Industries Group, Inc.\n",
            "8. Consider Longer-Term Commitments\n",
            "With Reliable Vendors Or Services\n",
            "It sounds counterintuitive but spending more can actually save\n",
            "more. If you have vendors or services that you know, love and\n",
            "frequently utilize, look at longer-term commitments in exchange for\n",
            "more favorable pricing. Don't forget to also ask about\n",
            "complimentary upgrades and other added benefits or bonuses in\n",
            "exchange for paying upfront. Everything is negotiable. - Angelique\n",
            "Rewers , BoldHaus\n",
            "\n",
            "Chris Clear , Clear Storage Group, LLC\n",
            "17. Focus On Reﬁnement And Solving\n",
            "Problems\n",
            "Two tactics that have never failed me are documenting existing\n",
            "processes to see if process refinement can reduce costs and asking\n",
            "my team how they would solve the problem. These two activities\n",
            "always uncover ways to reduce spending, often without reducing\n",
            "headcount. If workforce reduction is the knee-jerk tactic you rely on\n",
            "for reducing spend, you shouldn't be running a company. - Ty\n",
            "Allen , SocialClimb\n",
            "Check out my website . \n",
            "Expert Panel®\n",
            "\n",
            "costs can eat away at your proﬁts, small businesses should compare ﬁgures and price\n",
            "products accordingly.\n",
            "Can a small business be competitive overseas?\n",
            "Once you put in the work, nearly any small business can be competitive overseas. However,\n",
            "success depends on your strategy and market choice. Furthermore, picking the right mix of\n",
            "technologies is essential.\n",
            "An estimated 66% of small business owners believe technology can help subdue the top three\n",
            "barriers to exporting, according to a report by Google and the U.S. Chamber of Commerce.\u001b[0m\u001b[32;1m\u001b[1;3mHere are 10 topic titles for small business owners related to saving tips:\n",
            "\n",
            "1. Cost-cutting strategies for small businesses\n",
            "2. Financial planning tips for small business owners\n",
            "3. Effective budgeting techniques for small businesses\n",
            "4. Maximizing profits through efficient operations\n",
            "5. Negotiation skills for reducing business expenses\n",
            "6. Investment strategies for small business growth\n",
            "7. Tax-saving methods for small business owners\n",
            "8. Cash flow management in small businesses\n",
            "9. Reducing overhead costs in a small business\n",
            "10. Smart purchasing practices for small business sustainability\u001b[0m\n",
            "\n",
            "\u001b[1m> Finished chain.\u001b[0m\n",
            "Here are 10 topic titles for small business owners related to saving tips:\n",
            "\n",
            "1. Cost-cutting strategies for small businesses\n",
            "2. Financial planning tips for small business owners\n",
            "3. Effective budgeting techniques for small businesses\n",
            "4. Maximizing profits through efficient operations\n",
            "5. Negotiation skills for reducing business expenses\n",
            "6. Investment strategies for small business growth\n",
            "7. Tax-saving methods for small business owners\n",
            "8. Cash flow management in small businesses\n",
            "9. Reducing overhead costs in a small business\n",
            "10. Smart purchasing practices for small business sustainability\n"
          ]
        }
      ],
      "source": [
        "user_input = \"Generate 10 topic title\"\n",
        "response = topic_agent_executor.invoke({\"input\": user_input, 'client_personal_info':client_personal_info, 'client_business_info':client_business_info})\n",
        "print(response['output'])"
      ]
    },
    {
      "cell_type": "markdown",
      "metadata": {
        "id": "1TRSFMBv1PcN"
      },
      "source": [
        "### Learning Agent"
      ]
    },
    {
      "cell_type": "code",
      "execution_count": 57,
      "metadata": {
        "id": "wEOROUB_q58f"
      },
      "outputs": [],
      "source": [
        "from langchain_core.prompts import ChatPromptTemplate, MessagesPlaceholder\n",
        "custom_prompt = ChatPromptTemplate.from_messages(\n",
        "    [\n",
        "        (\"system\", AgentPrompts.agent_system_prompt),\n",
        "        MessagesPlaceholder(\"chat_history\", optional=False),\n",
        "        (\"human\", \"{input}\"),\n",
        "        MessagesPlaceholder(\"agent_scratchpad\"),\n",
        "    ]\n",
        ")\n",
        "topics = response['output']\n",
        "# topics = \"[Open Topics]\"\n",
        "\n",
        "custom_prompt = custom_prompt.partial(topics_to_cover=topics)"
      ]
    },
    {
      "cell_type": "code",
      "execution_count": 59,
      "metadata": {},
      "outputs": [
        {
          "name": "stdout",
          "output_type": "stream",
          "text": [
            "Here are 10 topic titles for small business owners related to saving tips:\n",
            "\n",
            "1. Cost-cutting strategies for small businesses\n",
            "2. Financial planning tips for small business owners\n",
            "3. Effective budgeting techniques for small businesses\n",
            "4. Maximizing profits through efficient operations\n",
            "5. Negotiation skills for reducing business expenses\n",
            "6. Investment strategies for small business growth\n",
            "7. Tax-saving methods for small business owners\n",
            "8. Cash flow management in small businesses\n",
            "9. Reducing overhead costs in a small business\n",
            "10. Smart purchasing practices for small business sustainability\n"
          ]
        }
      ],
      "source": [
        "print(response['output'])"
      ]
    },
    {
      "cell_type": "code",
      "execution_count": 45,
      "metadata": {
        "colab": {
          "base_uri": "https://localhost:8080/"
        },
        "id": "KUlZTy56vaoO",
        "outputId": "1cbd7020-b40e-45b1-ce97-54600dd7b3d3"
      },
      "outputs": [
        {
          "data": {
            "text/plain": [
              "ChatPromptTemplate(input_variables=['agent_scratchpad', 'chat_history', 'client_business_info', 'client_personal_info', 'input'], input_types={'chat_history': typing.List[typing.Union[langchain_core.messages.ai.AIMessage, langchain_core.messages.human.HumanMessage, langchain_core.messages.chat.ChatMessage, langchain_core.messages.system.SystemMessage, langchain_core.messages.function.FunctionMessage, langchain_core.messages.tool.ToolMessage]], 'agent_scratchpad': typing.List[typing.Union[langchain_core.messages.ai.AIMessage, langchain_core.messages.human.HumanMessage, langchain_core.messages.chat.ChatMessage, langchain_core.messages.system.SystemMessage, langchain_core.messages.function.FunctionMessage, langchain_core.messages.tool.ToolMessage]]}, partial_variables={'topics_to_cover': '[Open Topics]'}, messages=[SystemMessagePromptTemplate(prompt=PromptTemplate(input_variables=['client_business_info', 'client_personal_info', 'topics_to_cover'], template='\\n    You are an AI learning assistant helping a mentor coach their client on business-related matters.\\n\\n    ```\\n    Client Personal Information:\\n    {client_personal_info}\\n    ```\\n\\n    Client Business Information:\\n    {client_business_info}\\n\\n    Topics to cover:\\n    {topics_to_cover}\\n\\n    You are responsible for assessing the user\\'s understanding of each topic. Use the RAG (Retrieval-Augmented Generation) tool, which has access to knowledge from an uploaded PDF file, to generate relevant content. The assistant should cover the topics sequentially, ensuring the user comprehends each topic before moving to the next one.\\n\\n### Example Conversation Flow:\\n\\n**Initial Conversation Starter:**\\n\"Hello! Based on the client\\'s business information and the topics we need to cover, I recommend starting with [specific topic]. How familiar are you with this topic?\"\\n\\n**Proceeding Based on Understanding:**\\n\\n1. **Introduction to Topic:**\\n   - Provide a brief overview of the topic using content generated by the RAG tool.\\n   - Example: \"Let\\'s begin with an overview of [specific topic]. Here\\'s a brief introduction: [content from RAG].\"\\n\\n2. **Assess Understanding:**\\n   - Ask questions to gauge the user\\'s understanding.\\n   - Example: \"Do you have any questions about this overview? Can you explain how this might apply to your business?\"\\n\\n3. **Deepen Understanding:**\\n   - Provide more detailed information or examples if the user needs more clarity.\\n   - Example: \"Here are more details about [specific aspect]. [content from RAG]. How do you think this could impact your current business strategy?\"\\n\\n4. **Confirm Understanding:**\\n   - Ensure the user understands before moving on.\\n   - Example: \"Great! Do you feel comfortable with this topic, or is there anything else you\\'d like to explore further?\"\\n\\n5. **Transition to Next Topic:**\\n   - Once understanding is confirmed, move to the next topic.\\n   - Example: \"Since you\\'re comfortable with [current topic], let\\'s move on to [next topic]. Here\\'s an overview: [content from RAG].\"\\n\\nThis approach ensures a structured learning experience, allowing the user to build knowledge step-by-step while leveraging the content generated from the RAG tool.\\n')), MessagesPlaceholder(variable_name='chat_history'), HumanMessagePromptTemplate(prompt=PromptTemplate(input_variables=['input'], template='{input}')), MessagesPlaceholder(variable_name='agent_scratchpad')])"
            ]
          },
          "execution_count": 45,
          "metadata": {},
          "output_type": "execute_result"
        }
      ],
      "source": [
        "custom_prompt"
      ]
    },
    {
      "cell_type": "markdown",
      "metadata": {
        "id": "pffhvqy1qROx"
      },
      "source": [
        "### Adding Memory"
      ]
    },
    {
      "cell_type": "code",
      "execution_count": 67,
      "metadata": {
        "id": "VppkaPv7qMmJ"
      },
      "outputs": [],
      "source": [
        "from langchain.memory import ConversationBufferWindowMemory, ConversationSummaryBufferMemory\n",
        "from langchain.agents import AgentExecutor, create_openai_tools_agent, load_tools\n",
        "\n",
        "memory = ConversationBufferWindowMemory(memory_key = \"chat_history\", return_messages = True, input_key = \"input\", max_token_limit=2000)\n",
        "\n",
        "all_tools = tools\n",
        "# print(all_tools)\n",
        "# print(prompt)\n",
        "# Create an agent with all tools\n",
        "agent2 = create_openai_tools_agent(llm, all_tools, custom_prompt)\n",
        "# Create an agent executor by passing in the agent and tools\n",
        "agent_executor2 = AgentExecutor(agent = agent2, tools = all_tools, verbose = False, memory = memory, handle_parsing_errors=True)\n"
      ]
    },
    {
      "cell_type": "code",
      "execution_count": 36,
      "metadata": {
        "id": "NbJmh6BOvNm1"
      },
      "outputs": [],
      "source": [
        "client_personal_info = \"\"\"\n",
        "Name: Jane Doe\n",
        "Age: 34\n",
        "Education: MBA in Marketing\n",
        "Experience: 10 years in small business management\n",
        "Email: jane.doe@example.com\n",
        "Phone: +1-234-567-8901\n",
        "Location: Springfield, IL\n",
        "\"\"\"\n",
        "\n",
        "client_business_info = \"\"\"\n",
        "Business Name: Doe's Delights\n",
        "Industry: Food and Beverage\n",
        "Business Type: Small bakery specializing in organic and gluten-free products\n",
        "Year Established: 2015\n",
        "Number of Employees: 15\n",
        "Annual Revenue: $500,000\n",
        "Location: 123 Main Street, Springfield, IL\n",
        "\n",
        "Business Summary:\n",
        "Doe's Delights is a local bakery that has carved a niche in the organic and gluten-free segment. Founded in 2015 by Jane Doe, the business has steadily grown, catering to health-conscious consumers in Springfield and surrounding areas. The bakery offers a variety of baked goods, including bread, cakes, cookies, and pastries, all made with high-quality, organic ingredients.\n",
        "\n",
        "Goals:\n",
        "- Increase annual revenue by 20% over the next year\n",
        "- Expand the product line to include vegan options\n",
        "- Open a second location in the neighboring town\n",
        "- Enhance online presence and e-commerce capabilities\n",
        "\n",
        "Difficulties:\n",
        "- Managing supply chain disruptions for organic ingredients\n",
        "- Competition from larger bakeries and supermarkets\n",
        "- Limited marketing budget\n",
        "- Challenges in scaling up production without compromising quality\n",
        "\"\"\""
      ]
    },
    {
      "cell_type": "markdown",
      "metadata": {},
      "source": [
        "## Initiator\n",
        "\n",
        "This will be triggered once the user clicks 'Start' button."
      ]
    },
    {
      "cell_type": "code",
      "execution_count": null,
      "metadata": {},
      "outputs": [],
      "source": [
        "user_input = \"\"\n",
        "response = agent_executor2.invoke({\"input\": user_input, 'client_personal_info':client_personal_info, 'client_business_info':client_business_info})\n",
        "print(response['output'])"
      ]
    },
    {
      "cell_type": "markdown",
      "metadata": {},
      "source": [
        "### Evaluation"
      ]
    },
    {
      "cell_type": "code",
      "execution_count": 66,
      "metadata": {
        "colab": {
          "base_uri": "https://localhost:8080/"
        },
        "id": "1-6yNXsnqf42",
        "outputId": "dfec7a4a-54c3-430d-d2f4-9f4c7f3af682"
      },
      "outputs": [
        {
          "name": "stdout",
          "output_type": "stream",
          "text": [
            "Let's delve into the topic of financial planning tips for small business owners. Here are some insights to help you understand this topic better:\n",
            "\n",
            "1. **In-House Operations:** Consider handling certain operations in-house to save costs and focus on core competencies. This approach can lead to cost savings and operational efficiency.\n",
            "\n",
            "2. **Energy-Efficient Practices:** Implementing energy-efficient practices like using LED lighting, programmable thermostats, and energy-efficient appliances can help reduce utility costs and improve sustainability.\n",
            "\n",
            "3. **Shared Office Spaces:** Small businesses can explore shared office spaces as a cost-saving measure, reducing overhead expenses and fostering collaboration with other businesses.\n",
            "\n",
            "4. **Investing in Software Tools and Automation:** Leveraging technology through software tools and automation can optimize operations, streamline workflows, reduce manual labor, eliminate redundancy, and cut down on expenses. Cloud-based accounting systems and project management tools can enhance efficiency and profitability.\n",
            "\n",
            "5. **Longer-Term Commitments with Reliable Vendors:** Consider establishing longer-term commitments with reliable vendors or services to potentially negotiate better terms and pricing, leading to cost savings in the long run.\n",
            "\n",
            "Now, let's assess your understanding. How do you think implementing these financial planning tips could benefit Doe's Delights in terms of cost savings and improving financial stability?\n"
          ]
        }
      ],
      "source": [
        "user_input = \"I have no idea.\"\n",
        "response = agent_executor2.invoke({\"input\": user_input, 'client_personal_info':client_personal_info, 'client_business_info':client_business_info})\n",
        "print(response['output'])"
      ]
    },
    {
      "cell_type": "code",
      "execution_count": null,
      "metadata": {
        "id": "adinjgt9wm9b"
      },
      "outputs": [],
      "source": []
    }
  ],
  "metadata": {
    "colab": {
      "provenance": []
    },
    "kernelspec": {
      "display_name": "Python 3",
      "name": "python3"
    },
    "language_info": {
      "codemirror_mode": {
        "name": "ipython",
        "version": 3
      },
      "file_extension": ".py",
      "mimetype": "text/x-python",
      "name": "python",
      "nbconvert_exporter": "python",
      "pygments_lexer": "ipython3",
      "version": "3.10.0"
    }
  },
  "nbformat": 4,
  "nbformat_minor": 0
}
